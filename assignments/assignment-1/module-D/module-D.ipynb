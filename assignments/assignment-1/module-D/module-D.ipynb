{
 "cells": [
  {
   "cell_type": "markdown",
   "metadata": {},
   "source": [
    "# Assignment Group 1\n",
    "\n",
    "## Module D _(25 points)_\n",
    "\n",
    "__D1.__ _(2 points)_ In this module, you will be working on a Jupyter Notebook as the input data. In Module A of Assignment Group 1, we worked on the script of the [Seinfeld Chronicles dataset](https://www.kaggle.com/thec03u5/seinfeld-chronicles). Due to a mistake, we have printed the scripts 50 times. As a result, the generated output is very large and it does not allow us to open the notebook. If we cannot open the notebook, we won't be able to recover the code we've written before the problematic line of code. As a fix, in this module we are going to recover a Jupyter Notebook by removing the undesired `outputs` and save the notebook with a new name. Therefore, the first thing to know is the format of a Jupyter Notebook. As you noticed, the Jupyter Notebooks' names end with `.ipynb`. But, what is the format of a Jupyter Notebook as a data type? In other words, how can you load and modify the notebook as a piece of data? Place your answers in the response box below."
   ]
  },
  {
   "cell_type": "markdown",
   "metadata": {},
   "source": [
    "_Response._"
   ]
  },
  {
   "cell_type": "markdown",
   "metadata": {},
   "source": [
    "__D2.__ _(5 points)_ Now, if you've figured out the `data` format of Jupyter Notebooks, load the `data.ipynb` file located in the `data` directory using an appropriate module."
   ]
  },
  {
   "cell_type": "code",
   "execution_count": null,
   "metadata": {},
   "outputs": [],
   "source": []
  },
  {
   "cell_type": "markdown",
   "metadata": {},
   "source": [
    "__D3.__ _(13 points)_ In Jupyter, cells come in varieties, such as `'markdown'` and `'code'`. We write our code in the cells of type `'code'` and explanations in the `'markdown'` cells. Therefore, in this part, you have to iterate over the data file loaded in the previous part and find the cells that have the type of `'code'`. In these cells, you need to replace  the `outputs` with an empty list. Don't worry about removing the `'outputs'` of non-problematic `'code'` cells in the Jupyter Notebook you've loaded, we can re-run them again later. \n",
    "\n",
    "__Hint__: you view the type of the cells you're iterating over using the `cell_type` key. If a cell's `'cell_type'` value is  `'code'`, replace its `'outputs'` with an empty list (`[ ]`)."
   ]
  },
  {
   "cell_type": "code",
   "execution_count": null,
   "metadata": {},
   "outputs": [],
   "source": []
  },
  {
   "cell_type": "markdown",
   "metadata": {},
   "source": [
    "__D4.__ _(5 points)_ Finally, save your Jupyter Notebook with a new name (note that for this module, you have to submit three Jupyter Notebooks, one is the input data that you loaded in the __D2__, one is the Jupyter Notebook that you're saving after removing the undesired output, and one is the current active Jupyter Notebook in which you're writing your code).   "
   ]
  },
  {
   "cell_type": "code",
   "execution_count": null,
   "metadata": {},
   "outputs": [],
   "source": []
  }
 ],
 "metadata": {
  "kernelspec": {
   "display_name": "Python 3",
   "language": "python",
   "name": "python3"
  },
  "language_info": {
   "codemirror_mode": {
    "name": "ipython",
    "version": 3
   },
   "file_extension": ".py",
   "mimetype": "text/x-python",
   "name": "python",
   "nbconvert_exporter": "python",
   "pygments_lexer": "ipython3",
   "version": "3.7.2"
  }
 },
 "nbformat": 4,
 "nbformat_minor": 2
}
