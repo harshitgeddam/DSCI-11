{
 "cells": [
  {
   "cell_type": "markdown",
   "metadata": {},
   "source": [
    "# Assignment Group 1\n"
   ]
  },
  {
   "cell_type": "markdown",
   "metadata": {},
   "source": [
    "## Module B _(23 points)_\n",
    "\n",
    "__B1.__ _(5 points)_ You will be using part of the [Goodbooks 10k dataset](https://github.com/zygmuntz/goodbooks-10k) for this module. Read the `data/goodreads-books.csv` file into a list. Create a dictionary for each book in the list that contains these fields: authors, original title, original publication year, average rating, and ratings count. (You should convert average rating and ratings count into `float` and `int` types.) Put all these metadata dictionaries into a list. "
   ]
  },
  {
   "cell_type": "code",
   "execution_count": null,
   "metadata": {},
   "outputs": [],
   "source": []
  },
  {
   "cell_type": "markdown",
   "metadata": {},
   "source": [
    "__B2.__ _(4 points)_ Write a function to sort this list of book metadata in descending order of average rating. The function should take the list of metadata dictionaries as an input argument. "
   ]
  },
  {
   "cell_type": "code",
   "execution_count": null,
   "metadata": {},
   "outputs": [],
   "source": []
  },
  {
   "cell_type": "markdown",
   "metadata": {},
   "source": [
    "__B3.__ _(5 points)_ Update the function to take two arguments: the list, and an integer value for minimum ratings count. The function should now sort _and_ filter the list, returning a list of books sorted by average rating that have been rated by more than a specified number of users. You can use three different approaches: loops, comprehensions, and the built-in `filter()` function (look up documentation and examples). "
   ]
  },
  {
   "cell_type": "code",
   "execution_count": null,
   "metadata": {},
   "outputs": [],
   "source": []
  },
  {
   "cell_type": "markdown",
   "metadata": {},
   "source": [
    "__B4:__ _(7 points)_ Now use the other two approaches to create different versions of the function. See if you can condense your code into a single line for some of the approaches! "
   ]
  },
  {
   "cell_type": "code",
   "execution_count": null,
   "metadata": {},
   "outputs": [],
   "source": []
  },
  {
   "cell_type": "markdown",
   "metadata": {},
   "source": [
    "__B5.__ _(2 points)_ Why is using a function for this task prudent? What do you think is an acceptable minimum ratings count? Answer these questiions in the response box below."
   ]
  },
  {
   "cell_type": "markdown",
   "metadata": {},
   "source": [
    "Response."
   ]
  },
  {
   "cell_type": "code",
   "execution_count": null,
   "metadata": {},
   "outputs": [],
   "source": []
  }
 ],
 "metadata": {
  "kernelspec": {
   "display_name": "Python 3",
   "language": "python",
   "name": "python3"
  },
  "language_info": {
   "codemirror_mode": {
    "name": "ipython",
    "version": 3
   },
   "file_extension": ".py",
   "mimetype": "text/x-python",
   "name": "python",
   "nbconvert_exporter": "python",
   "pygments_lexer": "ipython3",
   "version": "3.7.0"
  }
 },
 "nbformat": 4,
 "nbformat_minor": 2
}
