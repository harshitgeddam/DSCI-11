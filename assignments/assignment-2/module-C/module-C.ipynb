{
 "cells": [
  {
   "cell_type": "markdown",
   "metadata": {},
   "source": [
    "# Assignment Group 2"
   ]
  },
  {
   "cell_type": "markdown",
   "metadata": {},
   "source": [
    "## Module C _(23 points)_\n",
    "\n",
    "__C1.__ _(3 points)_ Read the text from `data/tempest.txt`. Investigate the text, and explore splitting it up into scenes using a pattern that matches the scene headers as a delimiter in the `re.split()` function (__Section 4.4.1.2__). Explain when the first element returned by `re.split()` function is undesirable (no matter the delimiter) in the response box below. \n",
    "\n",
    "[__Hint__: make sure that your regular expression captures your delimiters (scene headings) with grouping parentheses: `re.split(\"(delim)\", test)`]\n",
    "\n",
    "Your output should look like:\n",
    "```\n",
    "scene_texts = ['\\ufeffThis Etext file is presented by Project Gutenberg, in\\ncooperation...', 'SCENE 1', \n",
    "               \"\\n\\nOn a ship at sea; ...\\n\\n  MASTER. Boatswain!\\n  BOATSWAIN. Here, master; what cheer?\\n...\", ...]\n",
    "```"
   ]
  },
  {
   "cell_type": "markdown",
   "metadata": {},
   "source": [
    "_Response._"
   ]
  },
  {
   "cell_type": "code",
   "execution_count": null,
   "metadata": {},
   "outputs": [],
   "source": []
  },
  {
   "cell_type": "markdown",
   "metadata": {},
   "source": [
    "__C2.__ _(7 points)_ Make sure you've really managed to get all of the scenes! Since the scene numbers restart with each `ACT`, there are multiple `SCENE 1`s, etc., for which you have to separate and capture the numbering. In particular, update your delimiter from __C1__ to make sure you _flexibly_ capture the `ACT` information, too. \n",
    "\n",
    "[Hint. What kind of numbering do the `ACT`s follow and how can you match it?] \n",
    "\n",
    "Alternatively, can you store all of the different `SCENE 1`s, etc., each in a list as a way of preserving the ACTs. Regardless of which you take, explain why this second approach might not be quite precise enough in the response box below."
   ]
  },
  {
   "cell_type": "markdown",
   "metadata": {},
   "source": [
    "_Response._"
   ]
  },
  {
   "cell_type": "code",
   "execution_count": null,
   "metadata": {},
   "outputs": [],
   "source": []
  },
  {
   "cell_type": "markdown",
   "metadata": {},
   "source": [
    "__C3.__ (8 points) For each scene in each act, use regular expressions to separate the (newline delimited) lines into speakers and speeches, and utilize `defaultdict` to store each scenes speaker/speech data as a list of tuples, i.e., list are values and scene headings are keys.\n",
    "\n",
    "__Note__: Your output for this part should look something like:\n",
    "```\n",
    "data = { \"ACT I\": { \"SCENE 1\": [('MASTER', 'Boatswain!'),\n",
    "                                ('BOATSWAIN', 'Here, master; what cheer?'),\n",
    "                                ('MASTER', \"Good! Speak to th' mariners; fall to't yarely, or\"),\n",
    "                                ('BOATSWAIN', 'Heigh, my hearts! cheerly, cheerly, my hearts!'),\n",
    "                                ('ALONSO', \"Good boatswain, have care. Where's the master?\"),\n",
    "                                ('BOATSWAIN', 'I pray now, keep below.'),\n",
    "                                ('ANTONIO', 'Where is the master, boson?'),\n",
    "                                ('BOATSWAIN', 'Do you not hear him? You mar our labour;'),\n",
    "                                ('GONZALO', 'Nay, good, be patient.'),\n",
    "                                ('BOATSWAIN', 'When the sea is. Hence! What cares these'),\n",
    "                                ('GONZALO', 'Good, yet remember whom thou hast aboard.'),\n",
    "                                ('BOATSWAIN', 'None that I more love than myself. You are'),\n",
    "                                ('GONZALO', 'I have great comfort from this fellow. Methinks'),\n",
    "                                ('BOATSWAIN', 'Down with the topmast. Yare, lower, lower!'),\n",
    "                                ('SEBASTIAN', \"A pox o' your throat, you bawling, blasphemous,\"), \n",
    "                                ('PERMISSION', ' ELECTRONIC AND MACHINE READABLE COPIES MAY BE'),\n",
    "                                ('COMMERCIALLY', ' PROHIBITED COMMERCIAL DISTRIBUTION INCLUDES BY ANY'), ...], \n",
    "                    \"SCENE 2\": [...], ...},\n",
    "         \"ACT II\": {...}, ...}\n",
    "```"
   ]
  },
  {
   "cell_type": "code",
   "execution_count": null,
   "metadata": {},
   "outputs": [],
   "source": []
  },
  {
   "cell_type": "markdown",
   "metadata": {},
   "source": [
    "__C4.__ (5 points) Now count up the number of times each character spoke in the entire book. Print out the speakers and their speech counts from most to least. Remark on any limitations your work in this exercise's preprocessing in the response box below. Do you see any artifacts of imprecision in your regex?"
   ]
  },
  {
   "cell_type": "markdown",
   "metadata": {},
   "source": [
    "_Response._"
   ]
  },
  {
   "cell_type": "code",
   "execution_count": null,
   "metadata": {},
   "outputs": [],
   "source": []
  }
 ],
 "metadata": {
  "kernelspec": {
   "display_name": "Python 3",
   "language": "python",
   "name": "python3"
  },
  "language_info": {
   "codemirror_mode": {
    "name": "ipython",
    "version": 3
   },
   "file_extension": ".py",
   "mimetype": "text/x-python",
   "name": "python",
   "nbconvert_exporter": "python",
   "pygments_lexer": "ipython3",
   "version": "3.7.0"
  }
 },
 "nbformat": 4,
 "nbformat_minor": 2
}
