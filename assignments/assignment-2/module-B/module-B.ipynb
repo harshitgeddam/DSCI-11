{
 "cells": [
  {
   "cell_type": "markdown",
   "metadata": {},
   "source": [
    "# Assignment Group 2"
   ]
  },
  {
   "cell_type": "markdown",
   "metadata": {},
   "source": [
    "## Module B _(25 points)_\n",
    "\n",
    "__B1.__ (4 points) For this problem, you will be using the Sportradar Soccer v3 API. Sign up for a Sportradar developer account and obtain an API key for the \"Soccer Europe Trial v3\" API. Use this key to download the results of matches in JSON format from the current season of the English Premier League. Consult the [API documentation](https://developer.sportradar.com/docs/read/football_soccer/Soccer_Extended_v3) in order to construct the correct request for getting tournament results. You will also need the tournament ID for the Premier League competition in England ([coverage table](http://coverage.api.sportradar.com/coverage/Soccer.html)). Examine the API response.\n",
    "\n",
    "Note: the data for a single match in the `json` response should look something like:\n",
    "```\n",
    "results['results'][0] = {'sport_event': {'competitors': [{'abbreviation': 'MUN',\n",
    "                                                          'country': 'England',\n",
    "                                                          'country_code': 'ENG',\n",
    "                                                          'id': 'sr:competitor:35',\n",
    "                                                          'name': 'Manchester United',\n",
    "                                                          'qualifier': 'home'},\n",
    "                                                         {'abbreviation': 'LEI',\n",
    "                                                          'country': 'England',\n",
    "                                                          'country_code': 'ENG',\n",
    "                                                          'id': 'sr:competitor:31',\n",
    "                                                          'name': 'Leicester City',\n",
    "                                                          'qualifier': 'away'}],\n",
    "                                         'id': 'sr:match:14735957',\n",
    "                                         'scheduled': '2018-08-10T19:00:00+00:00',\n",
    "                                         'season': {'end_date': '2019-05-13',\n",
    "                                                    'id': 'sr:season:54571',\n",
    "                                                    'name': 'Premier League 18/19',\n",
    "                                                    'start_date': '2018-08-10',\n",
    "                                                    'tournament_id': 'sr:tournament:17',\n",
    "                                                    'year': '18/19'},\n",
    "                                         'start_time_tbd': False,\n",
    "                                         'tournament': {'category': {'country_code': 'ENG',\n",
    "                                                                     'id': 'sr:category:1',\n",
    "                                                                     'name': 'England'},\n",
    "                                                        'id': 'sr:tournament:17',\n",
    "                                                        'name': 'Premier League',\n",
    "                                                        'sport': {'id': 'sr:sport:1',\n",
    "                                                        'name': 'Soccer'}},\n",
    "                                         'tournament_round': {'number': 1,\n",
    "                                                              'phase': 'regular season',\n",
    "                                                              'type': 'group'},\n",
    "                                         'venue': {'capacity': 75635,\n",
    "                                                   'city_name': 'Manchester',\n",
    "                                                   'country_code': 'ENG',\n",
    "                                                   'country_name': 'England',\n",
    "                                                   'id': 'sr:venue:9',\n",
    "                                                   'map_coordinates': '53.463150,-2.291444',\n",
    "                                                   'name': 'Old Trafford'}},\n",
    "                         'sport_event_status': {'away_score': 1,\n",
    "                                                'home_score': 2,\n",
    "                                                'match_status': 'ended',\n",
    "                                                'period_scores': [{'away_score': 0,\n",
    "                                                                   'home_score': 1,\n",
    "                                                                   'number': 1,\n",
    "                                                                   'type': 'regular_period'},\n",
    "                                                                  {'away_score': 1,\n",
    "                                                                   'home_score': 1,\n",
    "                                                                   'number': 2,\n",
    "                                                                   'type': 'regular_period'}],\n",
    "                                                'status': 'closed',\n",
    "                                                'winner_id': 'sr:competitor:35'}}\n",
    "```"
   ]
  },
  {
   "cell_type": "code",
   "execution_count": null,
   "metadata": {},
   "outputs": [],
   "source": []
  },
  {
   "cell_type": "markdown",
   "metadata": {},
   "source": [
    "__B2.__ _(5 points)_ The goal of this problem is to construct a standings table. First, collect the required information from each match result and store these individual result records in one data structure. In particular, collect the information necessary to determine/display:\n",
    "\n",
    "- abbreviation of team name\n",
    "- games played\n",
    "- games won\n",
    "- games drawn (ties)\n",
    "- games lost\n",
    "- goals for (total made) \n",
    "- goals against (total conceded)\n",
    "- goal difference\n",
    "- total points. \n",
    "\n",
    "__Important__: in soccer leagues, winning a match results in 3 points for the winner and 0 points for the loser. Drawing results in 1 point for each team. Goal difference is the difference between goals for and goals against. Also, if you are still working on __B1__ you can earn full credit by working with __B1__'s sample output."
   ]
  },
  {
   "cell_type": "code",
   "execution_count": null,
   "metadata": {},
   "outputs": [],
   "source": []
  },
  {
   "cell_type": "markdown",
   "metadata": {},
   "source": [
    "__B3.__ _(6 points)_ Now, using all matches in the accessed data, construct aggregate result data for each team and store this in a list. Your final output should look like the table stored in `data/sample-table.txt`:"
   ]
  },
  {
   "cell_type": "code",
   "execution_count": 19,
   "metadata": {},
   "outputs": [
    {
     "name": "stdout",
     "output_type": "stream",
     "text": [
      "Team\tG\tW\tD\tL\tGF\tGA\tGD\tP\n",
      "FCB\t6\t4\t1\t1\t17\t7\t10\t13\n",
      "MAD\t6\t4\t1\t1\t12\t6\t6\t13\n",
      "ATM\t6\t3\t2\t1\t8\t4\t4\t11\n",
      "SFC\t6\t3\t1\t2\t13\t6\t7\t10\n",
      "ALA\t5\t3\t1\t1\t8\t5\t3\t10\n",
      "ESP\t6\t3\t1\t2\t6\t4\t2\t10\n",
      "CEL\t6\t2\t3\t1\t11\t9\t2\t9\n",
      "VIL\t6\t2\t2\t2\t5\t3\t2\t8\n",
      "RSO\t6\t2\t2\t2\t9\t9\t0\t8\n",
      "GIR\t5\t2\t2\t1\t7\t8\t-1\t8\n",
      "GET\t5\t2\t1\t2\t4\t4\t0\t7\n",
      "EIB\t6\t2\t1\t3\t5\t7\t-2\t7\n",
      "ATH\t5\t1\t3\t1\t7\t9\t-2\t6\n",
      "RBB\t5\t1\t3\t1\t3\t5\t-2\t6\n",
      "VCF\t6\t0\t5\t1\t4\t6\t-2\t5\n",
      "LUD\t5\t1\t1\t3\t8\t11\t-3\t4\n",
      "LEG\t6\t1\t1\t4\t6\t11\t-5\t4\n",
      "RVC\t5\t1\t1\t3\t5\t12\t-7\t4\n",
      "HUE\t6\t1\t1\t4\t6\t16\t-10\t4\n",
      "RVA\t5\t0\t3\t2\t3\t5\t-2\t3\n",
      "\n"
     ]
    }
   ],
   "source": [
    "print(open(\"data/sample-table.txt\", \"r\").read())"
   ]
  },
  {
   "cell_type": "markdown",
   "metadata": {},
   "source": [
    "Here, the fields are: abbreviation of team name, games played, games won, games drawn, games lost, goals for, goals against, goal difference, and total points. "
   ]
  },
  {
   "cell_type": "code",
   "execution_count": null,
   "metadata": {},
   "outputs": [],
   "source": []
  },
  {
   "cell_type": "markdown",
   "metadata": {},
   "source": [
    "__B4.__ _(4 points)_ In the English Premier League, standings are calculated on the basis of points earned. Sort (__Section 2.1.1.7__) the standings list by the number of points earned. Print the standings out in the format shown in __B2.__\n",
    "\n",
    "__Note__:  If you are still working on __B3__ you can use (load) the sample standings table (as a list of lists) to practice sorting this kind of data structure."
   ]
  },
  {
   "cell_type": "code",
   "execution_count": null,
   "metadata": {},
   "outputs": [],
   "source": []
  },
  {
   "cell_type": "markdown",
   "metadata": {},
   "source": [
    "__B5.__ _(6 points)_ If two teams have the same points, the team with the higher goal difference is ranked higher. If the goal differences are also same, the team with the higher number of goals scored is ranked higher. Perform the sort considering all three factors (points, goal difference, goals for).\n",
    "\n",
    "__Note__:  If you are still working on __B3__ you can use (load) the sample standings table (as a list of lists) to practice sorting this kind of data structure."
   ]
  },
  {
   "cell_type": "code",
   "execution_count": null,
   "metadata": {},
   "outputs": [],
   "source": []
  }
 ],
 "metadata": {
  "kernelspec": {
   "display_name": "Python 3",
   "language": "python",
   "name": "python3"
  },
  "language_info": {
   "codemirror_mode": {
    "name": "ipython",
    "version": 3
   },
   "file_extension": ".py",
   "mimetype": "text/x-python",
   "name": "python",
   "nbconvert_exporter": "python",
   "pygments_lexer": "ipython3",
   "version": "3.7.0"
  }
 },
 "nbformat": 4,
 "nbformat_minor": 2
}
