{
 "cells": [
  {
   "cell_type": "markdown",
   "metadata": {},
   "source": [
    "# Assignment Group 2\n",
    "\n",
    "## Module A _(25 points)_\n",
    "\n",
    "__A1.__ _(3 points)_ Get the real-time schedule for Suburban Station using SEPTA's API (as shown in the example in __Section 3.1.3__ in the lecture notes, use the correct station code) and put this in a list. Make sure you access the right endpoint for csv response! Documentation may be found here:\n",
    "\n",
    "- http://www3.septa.org/hackathon/\n",
    "\n",
    "under the heading 'Center City Regional Rail Arrivals (csv)'.\n",
    "\n",
    "__Note__: Your output should look something like:\n",
    "```\n",
    "schedule = [[\"EMG=' No Emg Message\"],\n",
    "            ['R4S=10:55',\n",
    "             'Airport',\n",
    "             '3B',\n",
    "             ' 3 LATE',\n",
    "             'LOCAL                    ',\n",
    "             '427   ',\n",
    "             '<_NEXT_MSG>11:25',\n",
    "             'Airport',\n",
    "             '3B',\n",
    "             'ON TIME',\n",
    "             'LOCAL                    ',\n",
    "             '429   ',\n",
    "             '<_NEXT_MSG>11:55',\n",
    "             'Airport',\n",
    "             '3B',\n",
    "             'ON TIME',\n",
    "             'LOCAL                    ',\n",
    "             '431   ',\n",
    "             '<_NEXT_MSG>12:25',\n",
    "             'Airport',\n",
    "             '3B',\n",
    "             'ON TIME',\n",
    "             'LOCAL                    ',\n",
    "             '433   ',\n",
    "             ''], ...]\n",
    "```"
   ]
  },
  {
   "cell_type": "code",
   "execution_count": null,
   "metadata": {},
   "outputs": [],
   "source": []
  },
  {
   "cell_type": "markdown",
   "metadata": {},
   "source": [
    "__A2.__ _(8 points)_ Investigate this list by printing it out. Extract three pieces of information for each train: its scheduled arrival time, destination, and its lateness/timeliness status. Store these in a list that looks like the following.\n",
    "\n",
    "```\n",
    "[['01:55', 'Airport', ' 1 LATE'],\n",
    " ['02:25', 'Airport', 'ON TIME'],\n",
    " ['02:55', 'Airport', 'ON TIME'],\n",
    " ['03:25', 'Airport', 'ON TIME'],\n",
    " ['02:05', 'Warminster', ' 1 LATE'],\n",
    " ['02:35', 'Glenside', 'ON TIME'],\n",
    " ['03:05', 'Warminster', 'ON TIME'],\n",
    " ['02:37', 'Marcus Hook', 'ON TIME'],\n",
    " ['03:10', 'Newark', 'ON TIME'],\n",
    " ['03:14', 'Wilmington', 'ON TIME'],\n",
    " ['04:09', 'Newark', 'ON TIME']]\n",
    "```\n",
    "\n",
    "__Note__: If you're still working on __A1__ you can earn full credit for this part by operating on the sample output for __A1__.\n",
    "\n",
    "\\[__HINT:__ You will need to use regular expressions to extract the time. Each train is on a separate newline, and a variable number of train information is reported on each line. Consider using the modulus operator (`%`), which provides the remainder when one number is divided by another: `remainder = numerator % denominator`. Each of the variable number of trains takes up a fixed number of columns.\\]"
   ]
  },
  {
   "cell_type": "code",
   "execution_count": null,
   "metadata": {},
   "outputs": [],
   "source": []
  },
  {
   "cell_type": "markdown",
   "metadata": {},
   "source": [
    "__A3.__ _(2 points)_ Create a new list and use `dateutil.parser` (__Section 4.4.4__) to convert the time values into datetime objects. Store all three values for each train in the new list. Sort the list according to arrival time.\n",
    "\n",
    "__Note__: If you're still working on __A2__ you can earn full credit for this part by operating on the sample output (above)."
   ]
  },
  {
   "cell_type": "code",
   "execution_count": null,
   "metadata": {},
   "outputs": [],
   "source": []
  },
  {
   "cell_type": "markdown",
   "metadata": {},
   "source": [
    "__A4.__ _(7 points)_ Notice that one crucial piece of information missing from the arrival times is AM/PM information. This leads `dateutils.parser` to treat the 12-hour format timestrings as 24-hour format timestrings. \n",
    "\n",
    "To solve this problem, utilize tools from the `datetime` module. Go through the original list created in __A1__ in a loop and use the `datetime` module to convert the timestrings into datetime objects containing the correct date and 24-hour time. Put these new arrival times, the destination, and lateness information in a new list.\n",
    "\n",
    "__Note__: This part does not depend on __A3__. You can earn full credit for this part by operating on the sample output for __A2__.\n",
    "\n",
    "\\[__HINT:__ Use the current system time and the fact that the schedule information only contains trains arriving in the next few hours to fix the AM/PM problem.\\]"
   ]
  },
  {
   "cell_type": "code",
   "execution_count": null,
   "metadata": {},
   "outputs": [],
   "source": []
  },
  {
   "cell_type": "markdown",
   "metadata": {},
   "source": [
    "__A5.__ _(5 points)_ Create hourly log files with train information in `data/trains/` named with the appropriate timestamp containing date and hour, so that when sorted by name, they are also sorted chronologically. The files should contain the 24-hour format arrival time, destination, and lateness for trains scheduled to arrive in that hour, with one train per line.\n",
    "\n",
    "For example, some of the lines from a log file for 7 PM would look like this:\n",
    "\n",
    "```\n",
    "19:11, 30th St, ON TIME\n",
    "19:15, Cynwyd, ON TIME\n",
    "19:23, Fox Chase, ON TIME\n",
    "```\n",
    "\n",
    "__Note__: Note, even if you don't complete the __BONUS__, this part does not depend on it. You can again earn full credit for this part by operating on the sample output for __A2__."
   ]
  },
  {
   "cell_type": "code",
   "execution_count": null,
   "metadata": {},
   "outputs": [],
   "source": []
  }
 ],
 "metadata": {
  "kernelspec": {
   "display_name": "Python 3",
   "language": "python",
   "name": "python3"
  },
  "language_info": {
   "codemirror_mode": {
    "name": "ipython",
    "version": 3
   },
   "file_extension": ".py",
   "mimetype": "text/x-python",
   "name": "python",
   "nbconvert_exporter": "python",
   "pygments_lexer": "ipython3",
   "version": "3.7.0"
  }
 },
 "nbformat": 4,
 "nbformat_minor": 2
}
