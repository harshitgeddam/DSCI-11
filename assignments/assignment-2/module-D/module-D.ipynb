{
 "cells": [
  {
   "cell_type": "markdown",
   "metadata": {},
   "source": [
    "# Assignment Group 2"
   ]
  },
  {
   "cell_type": "markdown",
   "metadata": {},
   "source": [
    "## Module D _(20 points)_\n",
    "\n",
    "__D1.__ _(7 points)_ Download and extract the `loan.csv` file from the [Lending Club Loan Dataset](https://www.kaggle.com/wendykan/lending-club-loan-data) and put it in the `data/` directory. Read the csv in (the first line contains headers). Create a dictionary named `statuses` whose keys are the entries in the `loan_status` and values are boolean values, describing 'good' or 'bad' loans, where loans that have \"Current\", \"Fully Paid\", or \"Issued\" in the `loan_status` field are 'good' loans, and others are 'bad' loans."
   ]
  },
  {
   "cell_type": "code",
   "execution_count": null,
   "metadata": {},
   "outputs": [],
   "source": []
  },
  {
   "cell_type": "markdown",
   "metadata": {},
   "source": [
    "__D2.__ _(8 pts)_\n",
    "The `desc` field contains text descriptions of loans. Tokenize each loan description and count the words for 'good' and 'bad' loan descriptions, putting counts into two separate `Counter()` data structures according to each loan's status in `statuses`. Print out the 50 most common words used to describe 'good' and 'bad' loans, respectively. \n",
    "\n",
    "__Note__: If you're still working on __D1__, for partial (near-full) credit you can still count all words, regardless of loan good/bad status, and print out the 50 most common."
   ]
  },
  {
   "cell_type": "code",
   "execution_count": null,
   "metadata": {},
   "outputs": [],
   "source": []
  },
  {
   "cell_type": "markdown",
   "metadata": {},
   "source": [
    "__D3.__ _(5 points)_ Discuss your output and the choice of tokenization that you used in the response box below. Do the two different highly-frequeny word printouts make sense? What impacts do you think your choice had on the output? What were the challenges and what could have worked better or worse?\n",
    "\n",
    "__Note__: even if you are still working on __D1__ you can count words as discussed in __D2__ and. comment on your choices for tokenization."
   ]
  },
  {
   "cell_type": "markdown",
   "metadata": {},
   "source": [
    "_Response._"
   ]
  },
  {
   "cell_type": "code",
   "execution_count": null,
   "metadata": {},
   "outputs": [],
   "source": []
  }
 ],
 "metadata": {
  "kernelspec": {
   "display_name": "Python 3",
   "language": "python",
   "name": "python3"
  },
  "language_info": {
   "codemirror_mode": {
    "name": "ipython",
    "version": 3
   },
   "file_extension": ".py",
   "mimetype": "text/x-python",
   "name": "python",
   "nbconvert_exporter": "python",
   "pygments_lexer": "ipython3",
   "version": "3.7.0"
  }
 },
 "nbformat": 4,
 "nbformat_minor": 2
}
