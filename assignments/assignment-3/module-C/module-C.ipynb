{
 "cells": [
  {
   "cell_type": "markdown",
   "metadata": {},
   "source": [
    "# Assignment Group 3"
   ]
  },
  {
   "cell_type": "markdown",
   "metadata": {},
   "source": [
    "## Module C _(59 points)_\n",
    "\n",
    "In this exercise we'll build and expand a cheese and wine pairings database with the high-level goal of linking wine varieties and recipe ingredients.\n",
    "\n",
    "A Google search on food and wine pairings turned up a literature Ph.D. candidate's blog post:\n",
    "+ http://sedimentality.com/drinking-wine/list-of-wine-and-food-pairings/\n",
    "\n",
    "This post is interesting, because instead of pairing dishes with wine vintages or brands, it pairs ingredients with wine varieties, tagging ingredients by several categories. Thus, we could pull the data from this website to join wine varieties from a large wine reviews database to ingredients in a large recipes database. Your goal in this section of the assignment is to collect the ingredient-variety-category data.\n",
    "\n",
    "__C1.__ _(2 pts)_ Why are we allowed to scrape this data out of the website?\n",
    "\n",
    "Explain what information is posted (or not posted) on this domain, allowing us to definitely move forward with this exercise. Use the markdown cell below."
   ]
  },
  {
   "cell_type": "markdown",
   "metadata": {},
   "source": [
    "_Response._"
   ]
  },
  {
   "cell_type": "markdown",
   "metadata": {},
   "source": [
    "__C2.__ _(2 pts)_ Download the blog post using the `requests` module and store the html response."
   ]
  },
  {
   "cell_type": "code",
   "execution_count": null,
   "metadata": {},
   "outputs": [],
   "source": []
  },
  {
   "cell_type": "markdown",
   "metadata": {},
   "source": [
    "__C3.__ _(4 pts)_ Navigate to the same URL in your web browser, and identify where the target data are by inspecting the html (with your eyes) and matching up tags with the target content.\n",
    "\n",
    "In the markdown cell below, describe the tags that you will need to extract the data from. Provide as much information as is necessary on the nesting of the document so as to be able to describe the location of the target data for parsing."
   ]
  },
  {
   "cell_type": "markdown",
   "metadata": {},
   "source": [
    "_Response._"
   ]
  },
  {
   "cell_type": "markdown",
   "metadata": {},
   "source": [
    "__C4.__ _(6 pts)_ Parse the html text with BeautifulSoup in preparation for scraping. Then, print out the target data. \\[__Hint__: use `BeautifulSoup`'s `.find_all(tag_list)` method to iterate through the tags identified in __C3__. From there, check to see if a tag has the data of interest by using the `.find(tag)` method. \\]"
   ]
  },
  {
   "cell_type": "code",
   "execution_count": null,
   "metadata": {},
   "outputs": [],
   "source": []
  },
  {
   "cell_type": "markdown",
   "metadata": {},
   "source": [
    "__C5.__ _(3 pts)_ Interpret the output from the previous part to make a plan for how to split the target data up with regular expressions to create a structured data object. Describe any structure that you'll use in the markdown cell, below."
   ]
  },
  {
   "cell_type": "markdown",
   "metadata": {},
   "source": [
    "_Response._"
   ]
  },
  {
   "cell_type": "markdown",
   "metadata": {},
   "source": [
    "__C6.__ _(2 pts)_ Create an associative array (dictionary) data structure that can hold the ingredients in their categories, by wine variety. Use a default dictionary with its default value as a dictionary."
   ]
  },
  {
   "cell_type": "code",
   "execution_count": null,
   "metadata": {},
   "outputs": [],
   "source": []
  },
  {
   "cell_type": "markdown",
   "metadata": {},
   "source": [
    "__C7.__ _(7 pts)_ Complete the web-scraping script's loop in __C4__ and store the extracted data in the data structure you initialized in __C6__. Print the stored data to confirm your output. Note you'll need to use the regular expresions module to complete this section."
   ]
  },
  {
   "cell_type": "code",
   "execution_count": null,
   "metadata": {},
   "outputs": [],
   "source": []
  },
  {
   "cell_type": "markdown",
   "metadata": {},
   "source": [
    "__C8.__ _(2 pts)_ Write your data out to a json file. Name this file: `./data/wine_ingredient-pairings.json`.\n",
    "\n",
    "Note: since `defaultdicts` are not json serialiable (you can't make a file out of them), you will have to coerce (type cast) your final data to a standard Python dictionary to finish the job."
   ]
  },
  {
   "cell_type": "code",
   "execution_count": null,
   "metadata": {},
   "outputs": [],
   "source": []
  },
  {
   "cell_type": "markdown",
   "metadata": {},
   "source": [
    "__C9.__ _(3 pts)_ What limitations did you observe in this data, and in your extraction of this data?\n",
    "\n",
    "Were there any issues either with this data's content, volume, its veracity or accuracy? Were you able to get all of the data present? Did you wind up getting some data that you didn't want or need, or maybe not in the right form? Take a look at the wine and categories keys—are they consistent? Be as specific as possible!"
   ]
  },
  {
   "cell_type": "markdown",
   "metadata": {},
   "source": [
    "_Response._"
   ]
  },
  {
   "cell_type": "markdown",
   "metadata": {},
   "source": [
    "__C10.__ _(2 pts)_ Supposing we were going to rebuild the scraped wine-food pairings data as a gold standard through a survey. Are there any changes to allowable food types or to the manner in which the data are organized that might be beneficial to the wine recommendation task?"
   ]
  },
  {
   "cell_type": "markdown",
   "metadata": {},
   "source": [
    "_Response._"
   ]
  },
  {
   "cell_type": "markdown",
   "metadata": {},
   "source": [
    "__C11.__ _(3 pts)_ Download and familiarize yourself with the cuisine prediction dataset: https://www.kaggle.com/kaggle/recipe-ingredients-dataset (it's only necessary to download the `train.json` file and work with that).\n",
    "We're going to enrich our current data by adding results from this dataset."
   ]
  },
  {
   "cell_type": "code",
   "execution_count": null,
   "metadata": {},
   "outputs": [],
   "source": []
  },
  {
   "cell_type": "markdown",
   "metadata": {},
   "source": [
    "__C12.__ _(8 pts)_ Expand each wine variety's list of foods to include any co-appearing in the recipes found in the above Kaggle dataset. Make sure to record how often ingredients in the Kaggle recipes occured alongside foods in the wine variety list. Store this information in another nested `defaultdict`, with the following structure:\n",
    "\n",
    "```\n",
    "wines = {\n",
    "    wine: {\n",
    "        food_category: {\n",
    "            pairing: Counter(),\n",
    "            ...\n",
    "        },\n",
    "        ...\n",
    "    },\n",
    "    ...\n",
    "}\n",
    "```"
   ]
  },
  {
   "cell_type": "code",
   "execution_count": null,
   "metadata": {},
   "outputs": [],
   "source": []
  },
  {
   "cell_type": "markdown",
   "metadata": {},
   "source": [
    "__C13.__ _(2 pts)_ How would you create the above structure for `wines` using nested a nested `defaultdict`?"
   ]
  },
  {
   "cell_type": "code",
   "execution_count": null,
   "metadata": {},
   "outputs": [],
   "source": []
  },
  {
   "cell_type": "markdown",
   "metadata": {},
   "source": [
    "__C14.__ _(6 pts)_ We'd also like to incorporate a wine review dataset. Download and familiarize yourself with the dataset, found at: https://www.kaggle.com/zynicide/wine-reviews. Specifically, utilize the file: `winemag-data-130k-v2.csv` to link each of the scraped wines found in `wines` to the specific names of the wines which are of that variety (i.e., for the Sauvignon wine, create a list of all the wines with `variety` column that say Sauvignon, and attach them to the `wines` object from before)."
   ]
  },
  {
   "cell_type": "code",
   "execution_count": null,
   "metadata": {},
   "outputs": [],
   "source": []
  },
  {
   "cell_type": "markdown",
   "metadata": {},
   "source": [
    "__C15.__ _(5 pts)_ Now write a function which allows the user to input a list of ingredients and also a choice of ingredient category (such as \"Cheese/nuts\"), and outputs a list of all wine names that pair with these ingredients. This function won't incorporate the additional ingredients we obtained from the Kaggle dataset."
   ]
  },
  {
   "cell_type": "code",
   "execution_count": null,
   "metadata": {},
   "outputs": [],
   "source": []
  },
  {
   "cell_type": "markdown",
   "metadata": {},
   "source": [
    "__C16.__ _(2 pts)_ This should give you a ton of results! Maybe too many for the function to actually be useful in helping pick a wine. Perhaps there's some disagreement between the datasets. How should the `pairing`s and `ingredient`s from the scraped data and the Kaggle data each individually be pre-processed as text to obtain a good alignment?"
   ]
  },
  {
   "cell_type": "markdown",
   "metadata": {},
   "source": [
    "_Response._"
   ]
  }
 ],
 "metadata": {
  "kernelspec": {
   "display_name": "Python 3",
   "language": "python",
   "name": "python3"
  },
  "language_info": {
   "codemirror_mode": {
    "name": "ipython",
    "version": 3
   },
   "file_extension": ".py",
   "mimetype": "text/x-python",
   "name": "python",
   "nbconvert_exporter": "python",
   "pygments_lexer": "ipython3",
   "version": "3.7.0"
  }
 },
 "nbformat": 4,
 "nbformat_minor": 2
}
