{
 "cells": [
  {
   "cell_type": "markdown",
   "metadata": {},
   "source": [
    "# Assignment Group 3\n",
    "## Module A _(28 points)_\n",
    "For this problem, you will be working with [flight data from the Bureau of Transporttaion Statistics](http://stat-computing.org/dataexpo/2009/the-data.html). For development, these data are a little largeish (~700Mb/7 million flights) for prototyping, so two truncated files are provided under `data/2007-10k.csv` and `data/2008-10k.csv`. __Important: it's strongly recommended to prototype and develop code using the truncated data.__\n",
    "\n",
    "__Design note:__ The code you will develop as part of this problem's solution should be generalized so that it works when there are more than just two years' worth of data, i.e. when there are more files than just `2007.csv` and `2008.csv`.\n",
    "\n",
    "__To work with the full dataset,__ go to the link and download the data files for 2007 and 2008.  Put these files in the `data/` directory and extract them. (The files can be extracted from the command line by navigating into `data/` and running `bunzip2 200{7..8}.csv.bz2`.\n",
    "\n",
    "__A4.__ _(5 points)_ Write a function that takes a year as an input argument and loads the data for that year into a `pandas` dataframe, then drops the rows in the dataframe that have a null in any of these columns: \"Year\", \"Month\", \"DayofMonth\", \"DepTime\", \"Origin\", and \"Dest\", and then returns this dataframe. "
   ]
  },
  {
   "cell_type": "code",
   "execution_count": null,
   "metadata": {},
   "outputs": [],
   "source": []
  },
  {
   "cell_type": "markdown",
   "metadata": {},
   "source": [
    "__A2.__ _(7 points)_ Update the function so that before returning the dataframe, it creates a new column in the dataframe that contains `datetime` objects holding the departure date of the flight."
   ]
  },
  {
   "cell_type": "code",
   "execution_count": null,
   "metadata": {},
   "outputs": [],
   "source": []
  },
  {
   "cell_type": "markdown",
   "metadata": {},
   "source": [
    "__A3.__ _(5 points)_ Update the function so that it also takes an airport code as an input argument, and returns a dataframe of flights originating from that airport that occurred in the specified year. \\[__Hint__: while prototyping, to test your code choose an `'Origin'` that's in the truncated file, like  Philly's airport!\\]"
   ]
  },
  {
   "cell_type": "code",
   "execution_count": null,
   "metadata": {},
   "outputs": [],
   "source": []
  },
  {
   "cell_type": "markdown",
   "metadata": {},
   "source": [
    "__A4.__ _(4 points)_ Using this function, create dataframes holding the flight data for Philadelphia International Airport (PHL) for 2007 and 2008. Then use the `.groupby()` method to obtain the busiest month of the year for both years. Did this change from 2007 to 2008? "
   ]
  },
  {
   "cell_type": "code",
   "execution_count": null,
   "metadata": {},
   "outputs": [],
   "source": []
  },
  {
   "cell_type": "markdown",
   "metadata": {},
   "source": [
    "__A5.__ _(8 points)_ Update the function so that instead of a year value, it now takes two dates as input, denoting a range. The function must now return all flights originating from the specified airport within this range of time. If the range spans multiple years, the function should load data from all necessary files and return a single dataframe containing all the data within the specified range of time.\n",
    "\n",
    "Using this function, get all the flight data for flights from PHL for all of 2007 and 2008. Then, create a daily count of flights over all of the days in the two years and report the busiest day over the two years."
   ]
  },
  {
   "cell_type": "code",
   "execution_count": null,
   "metadata": {},
   "outputs": [],
   "source": []
  }
 ],
 "metadata": {
  "kernelspec": {
   "display_name": "Python 3",
   "language": "python",
   "name": "python3"
  },
  "language_info": {
   "codemirror_mode": {
    "name": "ipython",
    "version": 3
   },
   "file_extension": ".py",
   "mimetype": "text/x-python",
   "name": "python",
   "nbconvert_exporter": "python",
   "pygments_lexer": "ipython3",
   "version": "3.7.0"
  }
 },
 "nbformat": 4,
 "nbformat_minor": 2
}
