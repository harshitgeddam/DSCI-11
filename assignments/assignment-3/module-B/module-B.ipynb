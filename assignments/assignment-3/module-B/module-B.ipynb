{
 "cells": [
  {
   "cell_type": "markdown",
   "metadata": {},
   "source": [
    "# Assignment Group 3"
   ]
  },
  {
   "cell_type": "markdown",
   "metadata": {},
   "source": [
    "## Module B _(20 points)_\n",
    "\n",
    "In this problem, you will be using the [Baseball Databank provided by Sean Lahman](http://seanlahman.com/baseball-archive/statistics/). This data is already in the `data/baseballdatabank2017.1/core/` directory. It contains a collection of tables. The immediate goal will be to create a dataframe that has the following information for each baseball player:\n",
    "\n",
    "- Batting statistics (to be described)\n",
    "- Fielding statistics (to be described)\n",
    "- Pitching statistics (to be described)\n",
    "- Their salaries\n",
    "- The teams they played for\n",
    "- Their full names: First Middle Last\n",
    "- Their heights and weights\n",
    "\n",
    "The dataset has a data dictionary available at:\n",
    "\n",
    "- `../data/baseballdatabank-2017.1/core/readme2014.txt`\n",
    "\n",
    "The data and tables you will need are:\n",
    "\n",
    "- `Batting.csv`\n",
    "    - The number of games played and at bats\n",
    "    - The number of runs, hits, doubles, triples, homeruns, RBIs, strikeouts, and times hit by\n",
    "- `Fielding.csv`\n",
    "    - The number of games played\n",
    "    - The number of opponents put out, assisted outs, and fielding errors\n",
    "- `Master.csv`\n",
    "    - Their full names\n",
    "    - Their heights and weights\n",
    "- `Pitching.csv`\n",
    "    - The number of games played, won, lost\n",
    "    - The number of strikeouts, hits, earned runs, homeruns, and batters hit by pitches   \n",
    "- `Salaries.csv`\n",
    "    - The players salary\n",
    "- `Teams.csv`\n",
    "    - The name of the player's team\n",
    "    - The year the team was named its name\n",
    "    \n",
    "__B1.__ _(4 points)_ Load the data and keep only the columns of interest. "
   ]
  },
  {
   "cell_type": "code",
   "execution_count": null,
   "metadata": {},
   "outputs": [],
   "source": []
  },
  {
   "cell_type": "markdown",
   "metadata": {},
   "source": [
    "__B2.__ _(5 points)_ Create a function that takes a year as input and outputs subsets of each of the tables with data from only that year."
   ]
  },
  {
   "cell_type": "code",
   "execution_count": null,
   "metadata": {},
   "outputs": [],
   "source": []
  },
  {
   "cell_type": "markdown",
   "metadata": {},
   "source": [
    "__B3.__ _(8 points)_ Write a new function that will again take a year as input, then use the previous filtering function to get separate tables, and finally merge these tables using the appropriate joins. Determine which columns have the same names but different values, then determine a useful naming scheme of suffixes that indicates the table the column was originally drawn from. Use this scheme in combination with the `suffixes` argument of the `merge()` function to avoid column name conflicts. Also remove duplicate columns from the merged table."
   ]
  },
  {
   "cell_type": "code",
   "execution_count": null,
   "metadata": {},
   "outputs": [],
   "source": []
  },
  {
   "cell_type": "markdown",
   "metadata": {},
   "source": [
    "__B4.__ _(3 points)_ There will be nulls in the data. Determine how to deal with the NAs and apply this strategy. Justify your strategy in the response box below."
   ]
  },
  {
   "cell_type": "markdown",
   "metadata": {},
   "source": [
    "_Response._"
   ]
  },
  {
   "cell_type": "code",
   "execution_count": null,
   "metadata": {},
   "outputs": [],
   "source": []
  }
 ],
 "metadata": {
  "kernelspec": {
   "display_name": "Python 3",
   "language": "python",
   "name": "python3"
  },
  "language_info": {
   "codemirror_mode": {
    "name": "ipython",
    "version": 3
   },
   "file_extension": ".py",
   "mimetype": "text/x-python",
   "name": "python",
   "nbconvert_exporter": "python",
   "pygments_lexer": "ipython3",
   "version": "3.7.0"
  }
 },
 "nbformat": 4,
 "nbformat_minor": 2
}
