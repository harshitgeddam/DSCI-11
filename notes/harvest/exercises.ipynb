{
 "cells": [
  {
   "cell_type": "markdown",
   "metadata": {},
   "source": [
    "# DSCI 511: Data acquisition and pre-processing<br>Chapter 5: Harvesting Content from the World Wide Web\n",
    "## Exercises\n",
    "Note: numberings refer to the main notes."
   ]
  },
  {
   "cell_type": "markdown",
   "metadata": {},
   "source": [
    "#### 5.2.1.0 Example: Parsing a BeautifulSoup document\n",
    "Access the content from `'http://catalog.drexel.edu/'`, and find the title."
   ]
  },
  {
   "cell_type": "code",
   "execution_count": 5,
   "metadata": {},
   "outputs": [
    {
     "name": "stdout",
     "output_type": "stream",
     "text": [
      "<title>Drexel University &lt; 2018-2019 Catalog | Drexel University</title>\n"
     ]
    }
   ],
   "source": [
    "import requests\n",
    "from bs4 import BeautifulSoup\n",
    "\n",
    "URL = 'http://catalog.drexel.edu/'\n",
    "\n",
    "html = requests.get(URL)\n",
    "\n",
    "soup = BeautifulSoup(html.text, 'html.parser')\n",
    "\n",
    "print(soup.find(\"title\"))"
   ]
  },
  {
   "cell_type": "markdown",
   "metadata": {},
   "source": [
    "#### 5.2.1.3 Understanding the body\n",
    "Find and print the body content of the University Catalog (`'http://catalog.drexel.edu/'`) and review the structure of the html. What might get us into the actual catalog data? Can you find the code for the Undergraduate and Graduate 'buttons'?"
   ]
  },
  {
   "cell_type": "code",
   "execution_count": 11,
   "metadata": {
    "scrolled": false
   },
   "outputs": [
    {
     "name": "stdout",
     "output_type": "stream",
     "text": [
      "<a href=\"http://catalog.drexel.edu\"><img alt=\"University Catalog 2011-2012\" src=\"/images/header.png\"/></a>\n",
      "<a href=\"/colleges/\"><span>Colleges and Schools</span></a>\n",
      "<a href=\"/majors/\"><span>Majors</span></a>\n",
      "<a href=\"/minors/\"><span>Minors</span></a>\n",
      "<a href=\"/graduateprograms/\"><span>Graduate Programs</span></a>\n",
      "<a href=\"/certificates/\"><span>Certificate Programs</span></a>\n",
      "<a href=\"http://www.drexel.edu/catalog/archive/\" target=\"_blank\"><span>Archive</span></a>\n",
      "<a href=\"/undergraduate/\"><span>Undergraduate</span></a>\n",
      "<a href=\"/graduate/\"><span>Graduate</span></a>\n",
      "<a href=\"/additionalacademicprograms/\"><span>Additional Academic Programs</span></a>\n",
      "<a href=\"http://drexel.edu/webtms\" target=\"_blank\"><img alt=\"Schedule of Classes\" src=\"/images/sidebar_scheduleclasses.jpg\"/></a>\n",
      "<a href=\"/coursedescriptions/\" target=\"_blank\"><img alt=\"All Course Descriptions\" src=\"/images/sidebar_coursedescriptions.jpg\"/></a>\n",
      "<a href=\"/undergraduate/coop/\" target=\"_blank\"><img alt=\"Co-op\" src=\"/images/sidebar_coop.jpg\"/></a>\n",
      "<a href=\"http://drexel.edu/provost/aard/advising/undergraduate-advisors/\" target=\"_blank\"><img alt=\"Academic Advising\" src=\"/images/sidebar_advising.jpg\"/></a>\n",
      "<a href=\"http://www.catalog.drexel.edu/admissions/\" target=\"_blank\"><img alt=\"Admissions\" src=\"/images/sidebar_admissions.jpg\"/></a>\n",
      "<a href=\"/undergraduate/tuitionandfees/\" target=\"_blank\"><img alt=\"Tuition &amp; Fees\" src=\"/images/sidebar_tuitionfees.jpg\"/></a>\n",
      "<a href=\"http://drexel.edu/\" target=\"_blank\">Drexel Home</a>\n",
      "<a href=\"/aboutdrexel/\">About Drexel</a>\n",
      "<a href=\"/accreditation/\">Accreditation</a>\n",
      "<a href=\"http://drexel.edu/provost/policies/overview/\" target=\"_blank\">Academic Policies</a>\n",
      "<a href=\"/catalogcontents/\">Site Map</a>\n",
      "<a href=\"/\">Drexel University</a>\n",
      "<a href=\"mailto:catalog@drexel.edu\">catalog@drexel.edu</a>\n"
     ]
    }
   ],
   "source": [
    "import requests\n",
    "from bs4 import BeautifulSoup\n",
    "\n",
    "response = requests.get('http://catalog.drexel.edu/')\n",
    "\n",
    "soup = BeautifulSoup(response.text, 'html.parser')\n",
    "\n",
    "for link in soup.find('body').find_all('a'):\n",
    "    print(link)"
   ]
  },
  {
   "cell_type": "markdown",
   "metadata": {},
   "source": [
    "#### 5.2.1.5 Exercise: Examining tag attributes\n",
    "Find all `'p'`-tagged blocks in the University Catalog (`'http://catalog.drexel.edu/'`) and examine any tag attributes. What sort of information is being conveyed?"
   ]
  },
  {
   "cell_type": "code",
   "execution_count": 2,
   "metadata": {},
   "outputs": [],
   "source": [
    "import requests\n",
    "from bs4 import BeautifulSoup\n",
    "\n",
    "URL = \"http://catalog.drexel.edu/\"\n",
    "\n",
    "response = requests.get(URL)"
   ]
  },
  {
   "cell_type": "code",
   "execution_count": 14,
   "metadata": {
    "scrolled": false
   },
   "outputs": [
    {
     "name": "stdout",
     "output_type": "stream",
     "text": [
      "{'id': 'breadcrumbs'}\n",
      "{'class': ['intro']}\n",
      "{'class': ['disclaimer']}\n",
      "{'class': ['disclaimer']}\n",
      "{'class': ['btn-ugrad']}\n",
      "{'class': ['btn-grad']}\n",
      "{'class': ['btn-other']}\n",
      "{}\n",
      "{}\n"
     ]
    }
   ],
   "source": [
    "soup = BeautifulSoup(response.text, \"html.parser\")\n",
    "\n",
    "for paragraph in soup('p'):\n",
    "    print(paragraph.attrs)\n",
    "\n",
    "# print(soup)"
   ]
  },
  {
   "cell_type": "markdown",
   "metadata": {},
   "source": [
    "#### 5.2.1.6 Exercise: Filtering tags by attribute\n",
    "Returning to `'http://catalog.drexel.edu/'`, can you collect only those hyperlinks which don't have the attribute `target=\"_blank\"`? \\[__Hint__: Think sets and exclusion.\\]"
   ]
  },
  {
   "cell_type": "code",
   "execution_count": 19,
   "metadata": {
    "scrolled": false
   },
   "outputs": [
    {
     "data": {
      "text/plain": [
       "{<a href=\"/\">Drexel University</a>,\n",
       " <a href=\"/aboutdrexel/\">About Drexel</a>,\n",
       " <a href=\"/accreditation/\">Accreditation</a>,\n",
       " <a href=\"/additionalacademicprograms/\"><span>Additional Academic Programs</span></a>,\n",
       " <a href=\"/catalogcontents/\">Site Map</a>,\n",
       " <a href=\"/certificates/\"><span>Certificate Programs</span></a>,\n",
       " <a href=\"/colleges/\"><span>Colleges and Schools</span></a>,\n",
       " <a href=\"/graduate/\"><span>Graduate</span></a>,\n",
       " <a href=\"/graduateprograms/\"><span>Graduate Programs</span></a>,\n",
       " <a href=\"/majors/\"><span>Majors</span></a>,\n",
       " <a href=\"/minors/\"><span>Minors</span></a>,\n",
       " <a href=\"/undergraduate/\"><span>Undergraduate</span></a>,\n",
       " <a href=\"http://catalog.drexel.edu\"><img alt=\"University Catalog 2011-2012\" src=\"/images/header.png\"/></a>,\n",
       " <a href=\"mailto:catalog@drexel.edu\">catalog@drexel.edu</a>}"
      ]
     },
     "execution_count": 19,
     "metadata": {},
     "output_type": "execute_result"
    }
   ],
   "source": [
    "all_links = set(soup.find_all('a'))\n",
    "\n",
    "bad_links = set(soup.find_all('a', {'target' : '_blank'}))\n",
    "                \n",
    "good_links = all_links - bad_links\n",
    "\n",
    "good_links"
   ]
  },
  {
   "cell_type": "code",
   "execution_count": 20,
   "metadata": {},
   "outputs": [
    {
     "data": {
      "text/plain": [
       "{<a href=\"/coursedescriptions/\" target=\"_blank\"><img alt=\"All Course Descriptions\" src=\"/images/sidebar_coursedescriptions.jpg\"/></a>,\n",
       " <a href=\"/undergraduate/coop/\" target=\"_blank\"><img alt=\"Co-op\" src=\"/images/sidebar_coop.jpg\"/></a>,\n",
       " <a href=\"/undergraduate/tuitionandfees/\" target=\"_blank\"><img alt=\"Tuition &amp; Fees\" src=\"/images/sidebar_tuitionfees.jpg\"/></a>,\n",
       " <a href=\"http://drexel.edu/\" target=\"_blank\">Drexel Home</a>,\n",
       " <a href=\"http://drexel.edu/provost/aard/advising/undergraduate-advisors/\" target=\"_blank\"><img alt=\"Academic Advising\" src=\"/images/sidebar_advising.jpg\"/></a>,\n",
       " <a href=\"http://drexel.edu/provost/policies/overview/\" target=\"_blank\">Academic Policies</a>,\n",
       " <a href=\"http://drexel.edu/webtms\" target=\"_blank\"><img alt=\"Schedule of Classes\" src=\"/images/sidebar_scheduleclasses.jpg\"/></a>,\n",
       " <a href=\"http://www.catalog.drexel.edu/admissions/\" target=\"_blank\"><img alt=\"Admissions\" src=\"/images/sidebar_admissions.jpg\"/></a>,\n",
       " <a href=\"http://www.drexel.edu/catalog/archive/\" target=\"_blank\"><span>Archive</span></a>}"
      ]
     },
     "execution_count": 20,
     "metadata": {},
     "output_type": "execute_result"
    }
   ],
   "source": [
    "bad_links"
   ]
  },
  {
   "cell_type": "markdown",
   "metadata": {},
   "source": [
    "#### 5.3.1.3 Extracting hyperlinks for a crawl\n",
    "From the Graduate Quarter course descriptions page (`'http://catalog.drexel.edu/coursedescriptions/quarter/grad/'`), extract a list of URLs to the various program course descriptions pages.  Can you keep them  grouped by academic unit? \\[__Hint__: To do so, you can use the page layout regular expressions, i.e., `re.compile()` to manage the unit headings.\\]"
   ]
  },
  {
   "cell_type": "code",
   "execution_count": 21,
   "metadata": {},
   "outputs": [],
   "source": [
    "import requests\n",
    "from bs4 import BeautifulSoup\n",
    "\n",
    "URL = \"http://catalog.drexel.edu/coursedescriptions/quarter/grad/\"\n",
    "\n",
    "response = requests.get(URL)"
   ]
  },
  {
   "cell_type": "code",
   "execution_count": 32,
   "metadata": {
    "scrolled": false
   },
   "outputs": [
    {
     "data": {
      "text/plain": [
       "{'Antoinette Westphal College of Media Arts & Design (A)': {'name': ['Animation (ANIM)',\n",
       "   'Architecture (ARCH)',\n",
       "   'Art History (ARTH)',\n",
       "   'Arts Administration (AADM)',\n",
       "   'Arts Administration and Museum Leadership   (AAML)',\n",
       "   'Design Research  (DSRE)',\n",
       "   'Digital Media (DIGM)',\n",
       "   'Fashion Design (FASH)',\n",
       "   'Game Art and Production (GMAP)',\n",
       "   'Interior Design (INTR)',\n",
       "   'Museum Leadership (MUSL)',\n",
       "   'Retail & Merchandising (RMER)',\n",
       "   'Television Management (TVMN)',\n",
       "   'Urban Strategy (URBS)',\n",
       "   'Visual Studies (VSST)',\n",
       "   'Westphal Studies (WEST)'],\n",
       "  'href': ['/coursedescriptions/quarter/grad/anim/',\n",
       "   '/coursedescriptions/quarter/grad/arch/',\n",
       "   '/coursedescriptions/quarter/grad/arth/',\n",
       "   '/coursedescriptions/quarter/grad/aadm/',\n",
       "   '/coursedescriptions/quarter/grad/aaml/',\n",
       "   '/coursedescriptions/quarter/grad/dsre/',\n",
       "   '/coursedescriptions/quarter/grad/digm/',\n",
       "   '/coursedescriptions/quarter/grad/fash/',\n",
       "   '/coursedescriptions/quarter/grad/gmap/',\n",
       "   '/coursedescriptions/quarter/grad/intr/',\n",
       "   '/coursedescriptions/quarter/grad/musl/',\n",
       "   '/coursedescriptions/quarter/grad/rmer/',\n",
       "   '/coursedescriptions/quarter/grad/tvmn/',\n",
       "   '/coursedescriptions/quarter/grad/urbs/',\n",
       "   '/coursedescriptions/quarter/grad/vsst/',\n",
       "   '/coursedescriptions/quarter/grad/west/']},\n",
       " 'College of Arts and Sciences (AS)': {'name': ['Bioscience & Biotechnology (BIO)',\n",
       "   'Chemistry (CHEM)',\n",
       "   'Communication (COM)',\n",
       "   'Communication, Culture & Media  (CCM)',\n",
       "   'Environmental Policy (ENVP)',\n",
       "   'Environmental Science (ENVS)',\n",
       "   'History (HIST)',\n",
       "   'Linguistics (LING)',\n",
       "   'Mathematics (MATH)',\n",
       "   'Physics (PHYS)',\n",
       "   'Political Science (PSCI)',\n",
       "   'Psychology (PSY)',\n",
       "   'Public Policy (PLCY)',\n",
       "   'Publishing (PUB)',\n",
       "   'Science, Technology and Society  (SCTS)'],\n",
       "  'href': ['/coursedescriptions/quarter/grad/bio/',\n",
       "   '/coursedescriptions/quarter/grad/chem/',\n",
       "   '/coursedescriptions/quarter/grad/com/',\n",
       "   '/coursedescriptions/quarter/grad/ccm/',\n",
       "   '/coursedescriptions/quarter/grad/envp/',\n",
       "   '/coursedescriptions/quarter/grad/envs/',\n",
       "   '/coursedescriptions/quarter/grad/hist/',\n",
       "   '/coursedescriptions/quarter/grad/ling/',\n",
       "   '/coursedescriptions/quarter/grad/math/',\n",
       "   '/coursedescriptions/quarter/grad/phys/',\n",
       "   '/coursedescriptions/quarter/grad/psci/',\n",
       "   '/coursedescriptions/quarter/grad/psy/',\n",
       "   '/coursedescriptions/quarter/grad/plcy/',\n",
       "   '/coursedescriptions/quarter/grad/pub/',\n",
       "   '/coursedescriptions/quarter/grad/scts/']},\n",
       " 'LeBow College of Business (B)': {'name': ['Accounting (ACCT)',\n",
       "   'Business Statistics (STAT)',\n",
       "   'Economics (ECON)',\n",
       "   'Finance (FIN)',\n",
       "   'General Business (BUSN)',\n",
       "   'Human Resource Management (HRMT)',\n",
       "   'International Business (INTB)',\n",
       "   'Legal Studies (BLAW)',\n",
       "   'Management (MGMT)',\n",
       "   'Management Information Systems (MIS)',\n",
       "   'Marketing (MKTG)',\n",
       "   'Operations Management (OPM)',\n",
       "   'Operations Research (OPR)',\n",
       "   'Organizational Behavior (ORGB)',\n",
       "   'Production Operations Mgmt (POM)',\n",
       "   'Sport Management (SMT)',\n",
       "   'Taxation (TAX)'],\n",
       "  'href': ['/coursedescriptions/quarter/grad/acct/',\n",
       "   '/coursedescriptions/quarter/grad/stat/',\n",
       "   '/coursedescriptions/quarter/grad/econ/',\n",
       "   '/coursedescriptions/quarter/grad/fin/',\n",
       "   '/coursedescriptions/quarter/grad/busn/',\n",
       "   '/coursedescriptions/quarter/grad/hrmt/',\n",
       "   '/coursedescriptions/quarter/grad/intb/',\n",
       "   '/coursedescriptions/quarter/grad/blaw/',\n",
       "   '/coursedescriptions/quarter/grad/mgmt/',\n",
       "   '/coursedescriptions/quarter/grad/mis/',\n",
       "   '/coursedescriptions/quarter/grad/mktg/',\n",
       "   '/coursedescriptions/quarter/grad/opm/',\n",
       "   '/coursedescriptions/quarter/grad/opr/',\n",
       "   '/coursedescriptions/quarter/grad/orgb/',\n",
       "   '/coursedescriptions/quarter/grad/pom/',\n",
       "   '/coursedescriptions/quarter/grad/smt/',\n",
       "   '/coursedescriptions/quarter/grad/tax/']},\n",
       " 'Close School of Entrepreneurship (C)': {'name': ['Entrepreneurship and Innovation (ENTP)'],\n",
       "  'href': ['/coursedescriptions/quarter/grad/entp/']},\n",
       " 'Center for Food & Hospitality Management (CH)': {'name': ['Food Science (FDSC)',\n",
       "   'Food Systems and Studies (FOOD)',\n",
       "   'Hotel & Restaurant Management (HRM)'],\n",
       "  'href': ['/coursedescriptions/quarter/grad/fdsc/',\n",
       "   '/coursedescriptions/quarter/grad/food/',\n",
       "   '/coursedescriptions/quarter/grad/hrm/']},\n",
       " 'College of Computing and Informatics (CI)': {'name': ['Computer Science (CS)',\n",
       "   'Computing & Security Technology (CST)',\n",
       "   'Data Science (DSCI)',\n",
       "   'Homeland Security Management (HSM)',\n",
       "   'Information Science & Systems (INFO)',\n",
       "   'National Security Management (NSM)',\n",
       "   'Software Engineering (SE)'],\n",
       "  'href': ['/coursedescriptions/quarter/grad/cs/',\n",
       "   '/coursedescriptions/quarter/grad/cst/',\n",
       "   '/coursedescriptions/quarter/grad/dsci/',\n",
       "   '/coursedescriptions/quarter/grad/hsm/',\n",
       "   '/coursedescriptions/quarter/grad/info/',\n",
       "   '/coursedescriptions/quarter/grad/nsm/',\n",
       "   '/coursedescriptions/quarter/grad/se/']},\n",
       " 'College of Engineering (E)': {'name': ['Architectural Engineering (AE)',\n",
       "   'Chemical Engineering (CHE)',\n",
       "   'Civil Engineering (CIVE)',\n",
       "   'Civil, Architectural & Environmental Engr (CAEE)',\n",
       "   'Construction Management (CMGT)',\n",
       "   'Elec & Comp Engr-Computers (ECEC)',\n",
       "   'Elec & Computer Engr-Electroph (ECEE)',\n",
       "   'Elec & Computer Engr-Power Eng (ECEP)',\n",
       "   'Elec & Computer Engr-Systems (ECES)',\n",
       "   'Electrical & Computer Engr (ECE)',\n",
       "   'Engineering Geology (EGEO)',\n",
       "   'Engineering Management (EGMT)',\n",
       "   'Engineering Technology (ET)',\n",
       "   'Engineering, General (ENGR)',\n",
       "   'Environmental Engineering (ENVE)',\n",
       "   'Materials Engineering (MATE)',\n",
       "   'Mechanical Engr & Mechanics (MEM)',\n",
       "   'Peace Engineering (PENG)',\n",
       "   'Project Management (PROJ)',\n",
       "   'Property Management (PRMT)',\n",
       "   'Real Estate (REAL)',\n",
       "   'Systems Engineering (SYSE)',\n",
       "   'Telecommunications (ECET)'],\n",
       "  'href': ['/coursedescriptions/quarter/grad/ae/',\n",
       "   '/coursedescriptions/quarter/grad/che/',\n",
       "   '/coursedescriptions/quarter/grad/cive/',\n",
       "   '/coursedescriptions/quarter/grad/caee/',\n",
       "   '/coursedescriptions/quarter/grad/cmgt/',\n",
       "   '/coursedescriptions/quarter/grad/ecec/',\n",
       "   '/coursedescriptions/quarter/grad/ecee/',\n",
       "   '/coursedescriptions/quarter/grad/ecep/',\n",
       "   '/coursedescriptions/quarter/grad/eces/',\n",
       "   '/coursedescriptions/quarter/grad/ece/',\n",
       "   '/coursedescriptions/quarter/grad/egeo/',\n",
       "   '/coursedescriptions/quarter/grad/egmt/',\n",
       "   '/coursedescriptions/quarter/grad/et/',\n",
       "   '/coursedescriptions/quarter/grad/engr/',\n",
       "   '/coursedescriptions/quarter/grad/enve/',\n",
       "   '/coursedescriptions/quarter/grad/mate/',\n",
       "   '/coursedescriptions/quarter/grad/mem/',\n",
       "   '/coursedescriptions/quarter/grad/peng/',\n",
       "   '/coursedescriptions/quarter/grad/proj/',\n",
       "   '/coursedescriptions/quarter/grad/prmt/',\n",
       "   '/coursedescriptions/quarter/grad/real/',\n",
       "   '/coursedescriptions/quarter/grad/syse/',\n",
       "   '/coursedescriptions/quarter/grad/ecet/']},\n",
       " 'Goodwin College of Professional Studies (GC)': {'name': ['Nonprofit Management (NPM)',\n",
       "   'Professional Studies (PRST)'],\n",
       "  'href': ['/coursedescriptions/quarter/grad/npm/',\n",
       "   '/coursedescriptions/quarter/grad/prst/']},\n",
       " 'Graduate College (GD)': {'name': ['Interdisciplinary Graduate Course (GRAD)'],\n",
       "  'href': ['/coursedescriptions/quarter/grad/grad/']},\n",
       " 'College of Nursing & Health Professions (NH)': {'name': ['Behavioral & Addictions Couns (BACS)',\n",
       "   'Complementary & Integrative Therapy (CIT)',\n",
       "   'Couple & Family Therapy (CFTP)',\n",
       "   'Creative Arts Therapies (CATX)',\n",
       "   'Creative Arts in Therapy (ARTS)',\n",
       "   'Creative Therapies & Counseling (CTCN)',\n",
       "   'Health Services Administration (HSAD)',\n",
       "   'Inter Professional Studies (IPS)',\n",
       "   'Medical Family Therapy (MFTP)',\n",
       "   'Neuroscience (NEUR)',\n",
       "   'Nursing (NURS)',\n",
       "   'Nursing & Health Professions (NHP)',\n",
       "   'Nutrition & Food Science (NFS)',\n",
       "   'Physical Therapy Rehab Science (PTRS)',\n",
       "   'Physician Assistant (PA)',\n",
       "   'Rehabilitation Sciences (RHAB)',\n",
       "   'Research (RSCH)'],\n",
       "  'href': ['/coursedescriptions/quarter/grad/bacs/',\n",
       "   '/coursedescriptions/quarter/grad/cit/',\n",
       "   '/coursedescriptions/quarter/grad/cftp/',\n",
       "   '/coursedescriptions/quarter/grad/catx/',\n",
       "   '/coursedescriptions/quarter/grad/arts/',\n",
       "   '/coursedescriptions/quarter/grad/ctcn/',\n",
       "   '/coursedescriptions/quarter/grad/hsad/',\n",
       "   '/coursedescriptions/quarter/grad/ips/',\n",
       "   '/coursedescriptions/quarter/grad/mftp/',\n",
       "   '/coursedescriptions/quarter/grad/neur/',\n",
       "   '/coursedescriptions/quarter/grad/nurs/',\n",
       "   '/coursedescriptions/quarter/grad/nhp/',\n",
       "   '/coursedescriptions/quarter/grad/nfs/',\n",
       "   '/coursedescriptions/quarter/grad/ptrs/',\n",
       "   '/coursedescriptions/quarter/grad/pa/',\n",
       "   '/coursedescriptions/quarter/grad/rhab/',\n",
       "   '/coursedescriptions/quarter/grad/rsch/']},\n",
       " 'Dornsife School of Public Health (PH)': {'name': ['Biostatistics (BST)',\n",
       "   'Community Health and Prevention (CHP)',\n",
       "   'Environmental & Occupational Health (EOH)',\n",
       "   'Epidemiology (EPI)',\n",
       "   'Health Management and Policy (HMP)',\n",
       "   'Public Health (PBHL)'],\n",
       "  'href': ['/coursedescriptions/quarter/grad/bst/',\n",
       "   '/coursedescriptions/quarter/grad/chp/',\n",
       "   '/coursedescriptions/quarter/grad/eoh/',\n",
       "   '/coursedescriptions/quarter/grad/epi/',\n",
       "   '/coursedescriptions/quarter/grad/hmp/',\n",
       "   '/coursedescriptions/quarter/grad/pbhl/']},\n",
       " 'School of Biomedical Engineering, Science & Health Systems (R)': {'name': ['Biomedical Engineering & Sci (BMES)'],\n",
       "  'href': ['/coursedescriptions/quarter/grad/bmes/']},\n",
       " 'School of Education (T)': {'name': ['Adult Education (EDAE)',\n",
       "   'Creativity Studies (CRTV)',\n",
       "   'E-Learning Leadership (ELL)',\n",
       "   'Education Human Resource Devel (EHRD)',\n",
       "   'Education Improvement & Transformation (EIT)',\n",
       "   'Education Learning Technologies (EDLT)',\n",
       "   'Education Lesson Study (EDUL)',\n",
       "   'Education Practitioner (EDUP)',\n",
       "   'Education Thesis (EDUT)',\n",
       "   'Education:Global & International Education (EDGI)',\n",
       "   'Educational Administration (EDAM)',\n",
       "   'Educational Lifelong Literacy (EDLS)',\n",
       "   'Educational Policy (EDPO)',\n",
       "   'Geography Education (EDGE)',\n",
       "   'Higher Education (EDHE)',\n",
       "   'Mathematics Education (MTED)',\n",
       "   'Museum Education (MUSM)',\n",
       "   'Special Education (EDEX)',\n",
       "   'Sport Coaching Leadership (SCL)',\n",
       "   'Teacher Education (EDUC)'],\n",
       "  'href': ['/coursedescriptions/quarter/grad/edae/',\n",
       "   '/coursedescriptions/quarter/grad/crtv/',\n",
       "   '/coursedescriptions/quarter/grad/ell/',\n",
       "   '/coursedescriptions/quarter/grad/ehrd/',\n",
       "   '/coursedescriptions/quarter/grad/eit/',\n",
       "   '/coursedescriptions/quarter/grad/edlt/',\n",
       "   '/coursedescriptions/quarter/grad/edul/',\n",
       "   '/coursedescriptions/quarter/grad/edup/',\n",
       "   '/coursedescriptions/quarter/grad/edut/',\n",
       "   '/coursedescriptions/quarter/grad/edgi/',\n",
       "   '/coursedescriptions/quarter/grad/edam/',\n",
       "   '/coursedescriptions/quarter/grad/edls/',\n",
       "   '/coursedescriptions/quarter/grad/edpo/',\n",
       "   '/coursedescriptions/quarter/grad/edge/',\n",
       "   '/coursedescriptions/quarter/grad/edhe/',\n",
       "   '/coursedescriptions/quarter/grad/mted/',\n",
       "   '/coursedescriptions/quarter/grad/musm/',\n",
       "   '/coursedescriptions/quarter/grad/edex/',\n",
       "   '/coursedescriptions/quarter/grad/scl/',\n",
       "   '/coursedescriptions/quarter/grad/educ/']},\n",
       " 'University Courses (X)': {'name': ['Career Integrated Education (CIE)',\n",
       "   'Cooperative Education (COOP)'],\n",
       "  'href': ['/coursedescriptions/quarter/grad/cie/',\n",
       "   '/coursedescriptions/quarter/grad/coop/']}}"
      ]
     },
     "execution_count": 32,
     "metadata": {},
     "output_type": "execute_result"
    }
   ],
   "source": [
    "soup = BeautifulSoup(response.text, 'html.parser')\n",
    "\n",
    "divs = soup.find_all('div', {\"class\": \"qugcourses\"})\n",
    "program_data = {}\n",
    "for div in divs:\n",
    "    unit_data = {\n",
    "        \"name\": [],\n",
    "        \"href\": []\n",
    "    }\n",
    "    \n",
    "    unit = div.find('h2').text\n",
    "    \n",
    "    a_tags = div.find_all('a')\n",
    "    for a_tag in a_tags:\n",
    "        unit_data['href'].append(a_tag['href'])\n",
    "        unit_data['name'].append(a_tag.text)\n",
    "    \n",
    "    program_data[unit] = unit_data\n",
    "    \n",
    "program_data"
   ]
  },
  {
   "cell_type": "markdown",
   "metadata": {},
   "source": [
    "#### 5.3.2.9 Extracting the data\n",
    "Write a function that scrapes the course descriptions from a given program page. For example, Drexel's MSDS course descriptions page is `'http://catalog.drexel.edu/coursedescriptions/quarter/grad/dsci/'`. Retain as much structure as possible!"
   ]
  },
  {
   "cell_type": "code",
   "execution_count": 35,
   "metadata": {
    "scrolled": false
   },
   "outputs": [
    {
     "data": {
      "text/plain": [
       "[{'name': 'Data Acquisition and Pre-Processing',\n",
       "  'number': 'DSCI\\xa0511  ',\n",
       "  'credits': '3.0 Credits',\n",
       "  'description': '\\nIntroduces the breadth of data science through a project lifecycle perspective. Covers early-stage data-life cycle activities in depth for the development and dissemination of data sets. Provides technical experience with data harvesting, acquisition, pre-processing, and curation.  Concludes with an open-ended term project where students explore data availability, scale, variability, and reliability.\\n',\n",
       "  'College/Department': 'College of Computing and Informatics',\n",
       "  'Repeat Status': 'Not repeatable for credit'},\n",
       " {'name': 'Data Analysis and Interpretation',\n",
       "  'number': 'DSCI\\xa0521  ',\n",
       "  'credits': '3.0 Credits',\n",
       "  'description': '\\nIntroduces methods for data analysis and their quantitative foundations in application to pre-processed data. Covers reproducibility and interpretation for project life cycle activities, including data exploration, hypothesis generation and testing, pattern recognition, and task automation. Provides experience with analysis methods for data science from a variety of quantitative disciplines. Concludes with an open-ended term project focused on the application of data exploration and analysis methods with interpretation via statistical, algorithmic, and mathematical reasoning.\\n',\n",
       "  'College/Department': 'College of Computing and Informatics',\n",
       "  'Repeat Status': 'Not repeatable for credit'},\n",
       " {'name': 'Data Science Capstone I',\n",
       "  'number': 'DSCI\\xa0591  ',\n",
       "  'credits': '3.0 Credits',\n",
       "  'description': '\\nExplores data science in practice as an open-ended team activity. Initiates an in-depth multi-term capstone study applying computing and informatics knowledge in a data science project.  Teams work to develop a significant product with advisors from industry and/or academia. Explores data science-related issues and challenges involved in the application domain of the team’s choice.  Applies a development process structure for project planning, specification, design, implementation, evaluation, and documentation.\\n',\n",
       "  'College/Department': 'College of Computing and Informatics',\n",
       "  'Repeat Status': 'Not repeatable for credit'},\n",
       " {'name': 'Data Science Capstone II',\n",
       "  'number': 'DSCI\\xa0592  ',\n",
       "  'credits': '3.0 Credits',\n",
       "  'description': '\\nExplores data science in practice as an open-ended team activity. Completes an in-depth multi-term capstone study applying computing and informatics knowledge in a data science project.  Teams work to develop a significant product with advisors from industry and/or academia. Explores data science-related issues and challenges involved in the application domain of the team’s choice.  Applies a development process structure for project planning, specification, design, implementation, evaluation, and documentation.\\n',\n",
       "  'College/Department': 'College of Computing and Informatics',\n",
       "  'Repeat Status': 'Not repeatable for credit',\n",
       "  'Prerequisites': 'DSCI 591 [Min Grade: C]'}]"
      ]
     },
     "execution_count": 35,
     "metadata": {},
     "output_type": "execute_result"
    }
   ],
   "source": [
    "import requests\n",
    "from bs4 import BeautifulSoup\n",
    "import re\n",
    "\n",
    "URL = \"http://catalog.drexel.edu/coursedescriptions/quarter/grad/dsci/\"\n",
    "\n",
    "new_response = requests.get(URL)\n",
    "\n",
    "new_soup = BeautifulSoup(new_response.text, 'html.parser')\n",
    "\n",
    "data = []\n",
    "\n",
    "courseblocks = new_soup.find_all('div', {\"class\": \"courseblock\"})\n",
    "for div in courseblocks:\n",
    "\n",
    "    heading = div.find('p')\n",
    "    number, name = heading.find_all('span')[:2]\n",
    "\n",
    "    credits = re.search(\"(\\d+\\.\\d+\\s+[cC]redits)\", heading.text).groups()[0]\n",
    "    \n",
    "    description = div.find('p', {'class': \"courseblockdesc\"})\n",
    "\n",
    "    course_data = {\n",
    "        \"name\": name.text,\n",
    "        \"number\": number.text,\n",
    "        'credits': credits,\n",
    "        'description': description.text\n",
    "    }\n",
    "    \n",
    "    if re.search(\"(College/Department):\\s+([^\\n]+)\\n\", div.text):\n",
    "        unit_key, unit = re.search(\"(College/Department):\\s+([^\\n]+)\\n\", div.text).groups()\n",
    "        course_data[unit_key] = unit\n",
    "    if re.search(\"(Repeat Status):\\s+([^\\n]+)\\n\", div.text):\n",
    "        repeat_key, repeat = re.search(\"(Repeat Status):\\s+([^\\n]+)\\n\", div.text).groups()\n",
    "        course_data[repeat_key] = repeat\n",
    "    if re.search(\"(Prerequisites):\\s+([^\\n]+)\\n\", div.text):\n",
    "        prereq_key, prereq = re.search(\"(Prerequisites):\\s+([^\\n]+)\\n\", div.text).groups()\n",
    "        course_data[prereq_key] = prereq\n",
    "\n",
    "    data.append(course_data)\n",
    "    \n",
    "data"
   ]
  },
  {
   "cell_type": "code",
   "execution_count": null,
   "metadata": {},
   "outputs": [],
   "source": []
  }
 ],
 "metadata": {
  "kernelspec": {
   "display_name": "Python 3",
   "language": "python",
   "name": "python3"
  },
  "language_info": {
   "codemirror_mode": {
    "name": "ipython",
    "version": 3
   },
   "file_extension": ".py",
   "mimetype": "text/x-python",
   "name": "python",
   "nbconvert_exporter": "python",
   "pygments_lexer": "ipython3",
   "version": "3.7.0"
  }
 },
 "nbformat": 4,
 "nbformat_minor": 2
}
