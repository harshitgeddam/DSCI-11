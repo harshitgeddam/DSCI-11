{
 "cells": [
  {
   "cell_type": "markdown",
   "metadata": {},
   "source": [
    "# DSCI 511: Data acquisition and pre-processing<br>Chapter 4: Pre-processing considerations: foresight for downstream needs\n",
    "## Exercises\n",
    "Note: numberings refer to the main notes.\n",
    "\n",
    "#### 4.1.1.1 Exercise: CSV to JSON conversion\n",
    "Read the `cities.csv` file and look at its contents. It should have a header (the first line of the file) that tells you which fields contain what data. Next, take the data for  only the cities which have their population listed and store this in JSON format.\n",
    "\n",
    "#### Discussion: Object structure to deduplicate metadata\n",
    "While we didn't filter rows by those with population listed (as requested), we did set a default structure to our dictionary by `state` and then `city` so as to avoid from having to store the state infomation with each 'row'. Can you modify this to filter the rows by non-empty population?"
   ]
  },
  {
   "cell_type": "code",
   "execution_count": 3,
   "metadata": {},
   "outputs": [],
   "source": [
    "import csv, json\n",
    "from pprint import pprint\n",
    "\n",
    "reader = csv.reader(open(\"./data/cities.csv\", \"r\")) \n",
    "cities_lists = list(reader)\n",
    "\n",
    "states = {}\n",
    "for i, row in enumerate(cities_lists): \n",
    "    if i:\n",
    "        state = row[1]\n",
    "        city = row[0]\n",
    "        states.setdefault(state,{})\n",
    "#         states[state].setdefault(city,[])\n",
    "        states[state][city] = row[-3:]\n",
    "    else:\n",
    "        header = row\n",
    "\n",
    "json.dump(state, open(\"data/states.json\", \"w\"))"
   ]
  },
  {
   "cell_type": "markdown",
   "metadata": {},
   "source": [
    "#### 4.1.2.1 Exercise: JSON to CSV conversion\n",
    "Load the data in the `american-movies.json` file. We only want the movies that were made from 1990 to 1999 (it was a truly glorious decade for American cinema). Your task is to take the title and year of making for these movies and put these in a tab-separated values file.\n",
    "\n",
    "#### Discussion: Selecting specific columns for a list of lists\n",
    "We decided to keep the `'title'` and `'year'` fields of the data, but the `'title'` field is free text, with records that will likely contain commas! So to save in a tabular format, e.g., for Excell, we can still easily write out to file using a list of lists and Python's basic file i/o as long as we join by a safe delimiter, like tab (`'\\t'`). Here's the file output using multiple `.join()`s in compound comprehension (for fun):"
   ]
  },
  {
   "cell_type": "code",
   "execution_count": 24,
   "metadata": {
    "scrolled": true
   },
   "outputs": [],
   "source": [
    "import json\n",
    "movies = json.load(open(\"data/american-movies.json\", \"r\"))\n",
    "\n",
    "movies_ordered = [['year', 'title']]\n",
    "movies_ordered += [[str(movie['year']), movie['title']] for movie in movies]\n",
    "\n",
    "with open(\"data/american-movies-year-title.tsv\", \"w\") as f:\n",
    "    f.write(\"\\n\".join([\"\\t\".join(row) for row in movies_ordered]))"
   ]
  },
  {
   "cell_type": "markdown",
   "metadata": {},
   "source": [
    "#### Discussion: Loop approach\n",
    "For those less comfortable or just trying to get the hang of comprehensions, here's the same process using a loops approach:"
   ]
  },
  {
   "cell_type": "code",
   "execution_count": 25,
   "metadata": {
    "scrolled": true
   },
   "outputs": [],
   "source": [
    "import json\n",
    "movies = json.load(open(\"data/american-movies.json\", \"r\"))\n",
    "\n",
    "movies_ordered = [['year', 'title']]\n",
    "\n",
    "for row in [[str(movie['year']), movie['title']] for movie in movies]:\n",
    "    movies_ordered.append(row)\n",
    "\n",
    "with open(\"data/american-movies-year-title.tsv\", \"w\") as f:\n",
    "    for movie in movies_ordered:\n",
    "        f.write(\"\\t\".join(movie) + \"\\n\")"
   ]
  },
  {
   "cell_type": "markdown",
   "metadata": {},
   "source": [
    "#### 4.1.2.4 Exercise: Making JSON file reading scalable\n",
    "Create a specialized JSON serialization of the data in `'nobel-laureates.json'`. Specifically, create a file called `'data/nobel-laureates-lines.json'` that has each lauriate's record serialized seprately as a json object, with newlines `'\\n'` in between, as delimiters. As a follow up, combine the line-by-line file reading syntax introduced in Section 1.4.1.5 in conjunction with the `json.dumps()` string serialization function in Section 1.4.2.2 to _read only the first ten lines_. As you read these lines, load each from json and print the laureate's list of prizes.\n",
    "\n",
    "#### Discussion: JSON objects on each line\n",
    "Here, we're just making sure that each line of the file is interpretable as a JSON object. For practice, here's a line-by-line reader to interact with the scalably-stored data."
   ]
  },
  {
   "cell_type": "code",
   "execution_count": 26,
   "metadata": {},
   "outputs": [],
   "source": [
    "import json\n",
    "nobel_laureates = json.load(open(\"data/nobel-laureates.json\", \"r\"))\n",
    "with open('data/nobel-laureates-lines.json', 'w') as f:\n",
    "    for laureate in nobel_laureates[\"laureates\"]:\n",
    "        f.write(json.dumps(laureate)+\"\\n\")"
   ]
  },
  {
   "cell_type": "code",
   "execution_count": 27,
   "metadata": {},
   "outputs": [
    {
     "name": "stdout",
     "output_type": "stream",
     "text": [
      "{'id': '1', 'firstname': 'Wilhelm Conrad', 'surname': 'Röntgen', 'born': '1845-03-27', 'died': '1923-02-10', 'bornCountry': 'Prussia (now Germany)', 'bornCountryCode': 'DE', 'bornCity': 'Lennep (now Remscheid)', 'diedCountry': 'Germany', 'diedCountryCode': 'DE', 'diedCity': 'Munich', 'gender': 'male', 'prizes': [{'year': '1901', 'category': 'physics', 'share': '1', 'motivation': '\"in recognition of the extraordinary services he has rendered by the discovery of the remarkable rays subsequently named after him\"', 'affiliations': [{'name': 'Munich University', 'city': 'Munich', 'country': 'Germany'}]}]}\n"
     ]
    }
   ],
   "source": [
    "with open('data/nobel-laureates-lines.json', 'r') as f:\n",
    "    for line in f:\n",
    "        laureate = json.loads(line)\n",
    "        print(laureate)\n",
    "        break"
   ]
  },
  {
   "cell_type": "markdown",
   "metadata": {},
   "source": [
    "#### 4.4.1.3 Exercise: Regex phone numbers\n",
    "Read the file `phone-numbers.txt`. It contains a phone number in each line. \\[Hint: use something like `lines = open(\"file.txt\", \"r\").readlines()`\\] Store only the phone numbers with the area code \"215\" in a list and print it out. Use regex-based pattern matching, not any other methods which occur to you.\n",
    "\n",
    "#### Discussion: Character classes\n",
    "Moving from the syntax `[0-9]`, the pre-defined character class `\\d` really makes the regular expression much more succinct. We want to make sure we put the `215` into our pattern explicitly, since it's the Philly area code!"
   ]
  },
  {
   "cell_type": "code",
   "execution_count": 39,
   "metadata": {},
   "outputs": [
    {
     "name": "stdout",
     "output_type": "stream",
     "text": [
      "['215-673-7554',\n",
      " '215-672-4085',\n",
      " '215-371-5261',\n",
      " '215-758-4303',\n",
      " '215-173-2648',\n",
      " '215-290-3681',\n",
      " '215-424-6180',\n",
      " '215-762-7704',\n",
      " '215-709-5404',\n",
      " '215-517-7535',\n",
      " '215-377-5293',\n",
      " '215-384-6874',\n",
      " '215-356-1368',\n",
      " '215-841-7294',\n",
      " '215-992-5760',\n",
      " '215-471-4965',\n",
      " '215-384-6622',\n",
      " '215-848-9952',\n",
      " '215-577-3006',\n",
      " '215-236-7893',\n",
      " '215-625-7823',\n",
      " '215-144-3179',\n",
      " '215-266-1567',\n",
      " '215-887-1117',\n",
      " '215-595-4262',\n",
      " '215-850-8796',\n",
      " '215-750-1293',\n",
      " '215-676-8811',\n",
      " '215-217-8676',\n",
      " '215-572-9395',\n",
      " '215-724-6998',\n",
      " '215-141-8609',\n",
      " '215-275-2164',\n",
      " '215-740-6238',\n",
      " '215-340-1427',\n",
      " '215-911-2531',\n",
      " '215-315-1104',\n",
      " '215-233-6324',\n",
      " '215-800-7926',\n",
      " '215-989-2630',\n",
      " '215-990-7215',\n",
      " '215-576-2113',\n",
      " '215-870-3616',\n",
      " '215-997-9490',\n",
      " '215-546-9201',\n",
      " '215-998-3660',\n",
      " '215-819-8806',\n",
      " '215-422-2358',\n",
      " '215-908-2121',\n",
      " '215-534-1397']\n"
     ]
    }
   ],
   "source": [
    "import re\n",
    "numbers = open(\"./data/phone-numbers.txt\", \"r\").readlines()\n",
    "\n",
    "phila_nums = []\n",
    "for num in numbers:\n",
    "    if re.search(\"215-\\d{3}-\\d{4}\", num):\n",
    "        phila_nums.append(num.strip())\n",
    "\n",
    "pprint(phila_nums)"
   ]
  },
  {
   "cell_type": "markdown",
   "metadata": {},
   "source": [
    "#### 4.4.1.8 Exercise: Names of the gods\n",
    "In the cell below is some text. It's an extract from [A Clash of Kings](https://www.goodreads.com/book/show/10572.A_Clash_of_Kings), specifically, about a character's prayer to some fictional gods. Use regex to extract the names of these gods. Your output should be a list that looks something like `[\"the Father\", \"the Mother\", \"the Warrior\"]`.\n",
    "\n",
    "#### Discussion: Shaping a capitalized word\n",
    "While case insensitivity on `the` didn't turn out any extra matches in this example, we did _have_ to utilize the capitalization present on the names to be able to separate them from other words that follow `the` determiner."
   ]
  },
  {
   "cell_type": "code",
   "execution_count": 15,
   "metadata": {},
   "outputs": [
    {
     "data": {
      "text/plain": [
       "['the Smith', 'the Maid', 'the Father', 'the Warrior', 'the Crone']"
      ]
     },
     "execution_count": 15,
     "metadata": {},
     "output_type": "execute_result"
    }
   ],
   "source": [
    "import re\n",
    "text = 'Lost and weary, Catelyn Stark gave herself over to her gods. She knelt before the Smith, who fixed things that were broken, and asked that he give her sweet Bran his protection. She went to the Maid and beseeched her to lend her courage to Arya and Sansa, to guard them in their innocence. To the Father, she prayed for justice, the strength to seek it and the wisdom to know it, and she asked the Warrior to keep Robb strong and shield him in his battles. Lastly she turned to the Crone, whose statues often showed her with a lamp in one hand. \"Guide me, wise lady,\" she prayed. \"Show me the path I must walk, and do not let me stumble in the dark places that lie ahead.\"'\n",
    "\n",
    "gods = re.findall(\"[tT]he [A-Z][a-z]+\", text)\n",
    "gods"
   ]
  },
  {
   "cell_type": "markdown",
   "metadata": {},
   "source": [
    "#### 4.4.4.2 Exercise: Calculate youre exact age\n",
    "Calculate your own age using datetime parsing! Can you come up with a datetime format for your birthday that `dateutil.parser` doesn't recognize or recognizes incorrectly? If so, use the `datetime` module to specify the format exactly. [Hint. Review these docs: \n",
    "- https://docs.python.org/3/library/datetime.html#datetime.datetime.strptime\n",
    "- https://docs.python.org/3/library/datetime.html#strftime-and-strptime-behavior\n",
    "]\n",
    "\n",
    "#### Discussion: Using the `dateparser` shortcut\n",
    "Utilizing `dateparser` to create our datetime object can really be quite helpful when it works, but for this calculation we'd have to be careful when determining the ages of particularly old people. It seems the 2-digit year reference to `1985` works (can you figure out how `dateparser` determines century?) and as a result determining age becomes as simple as taking a difference with `-` (minus), and dividing the resulting `.days` attribute by 365.25 (accounting for leap years)."
   ]
  },
  {
   "cell_type": "code",
   "execution_count": 22,
   "metadata": {},
   "outputs": [
    {
     "name": "stdout",
     "output_type": "stream",
     "text": [
      "1985-08-14 00:00:00\n",
      "33.210130047912386\n"
     ]
    }
   ],
   "source": [
    "from datetime import datetime as dt\n",
    "import dateutil.parser as dateparser\n",
    "\n",
    "current_time = dt.now()\n",
    "\n",
    "birthday = dateparser.parse(\"8/14/85\")\n",
    "print(birthday)\n",
    "\n",
    "print((current_time - birthday).days/365.25)"
   ]
  },
  {
   "cell_type": "code",
   "execution_count": null,
   "metadata": {},
   "outputs": [],
   "source": []
  }
 ],
 "metadata": {
  "kernelspec": {
   "display_name": "Python 3",
   "language": "python",
   "name": "python3"
  },
  "language_info": {
   "codemirror_mode": {
    "name": "ipython",
    "version": 3
   },
   "file_extension": ".py",
   "mimetype": "text/x-python",
   "name": "python",
   "nbconvert_exporter": "python",
   "pygments_lexer": "ipython3",
   "version": "3.7.0"
  }
 },
 "nbformat": 4,
 "nbformat_minor": 2
}
