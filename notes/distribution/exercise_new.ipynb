{
 "cells": [
  {
   "cell_type": "markdown",
   "metadata": {},
   "source": [
    "# DSCI 511: Data acquistion and pre-processing<br>Chapter 9: Distribution, accessibility, and data sharing\n",
    "## Exercises\n",
    "Note: numberings refer to the main notes.\n"
   ]
  },
  {
   "cell_type": "markdown",
   "metadata": {},
   "source": [
    "### 9.3.1 Kaggle\n",
    "If you haven't yet, check out Kaggle: \n",
    "\n",
    "- https://www.kaggle.com/\n",
    "\n",
    "It's a platform for practicing and learning about data science. Notably, Kaggle hosts a huge amount of public datasets and encourages anyone and everyone to download them and play around with them. Generally, the rights for these have been secured by the dataset posters, which range from businesses (generating data) to excited ML researchers interested in exposure and engagement. When companies post their datasets/shared tasks there are often excellent prizes and opportunities for recognition available to the winners of these contests! Also, many companies pay close attention the results. \n",
    "\n",
    "#### 9.3.1.1 Exercise: Kaggle \n",
    "Set up a Kaggle account (if you don't have one) and do a bit of browsing. Another feature that's handy on Kaggle is that it allows for users to upload their own datasets (both privately or publicly). Thus, even if you're more interested in the data acquisition and consolidation aspects of data science, Kaggle is still quite a useful potential tool. If you upload a public dataset and it proves popular, just as much recognition awaits.\n",
    "\n"
   ]
  }
 ],
 "metadata": {
  "kernelspec": {
   "display_name": "Python 3",
   "language": "python",
   "name": "python3"
  },
  "language_info": {
   "codemirror_mode": {
    "name": "ipython",
    "version": 3
   },
   "file_extension": ".py",
   "mimetype": "text/x-python",
   "name": "python",
   "nbconvert_exporter": "python",
   "pygments_lexer": "ipython3",
   "version": "3.6.5"
  }
 },
 "nbformat": 4,
 "nbformat_minor": 2
}
