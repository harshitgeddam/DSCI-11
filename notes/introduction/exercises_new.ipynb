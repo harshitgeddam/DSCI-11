{
 "cells": [
  {
   "cell_type": "markdown",
   "metadata": {},
   "source": [
    "# DSCI 511: Data acquisition and pre-processing<br>Chapter 1: Introduction, process, and getting started with data\n",
    "## Exercises\n",
    "Note: numberings refer to the main notes."
   ]
  },
  {
   "cell_type": "markdown",
   "metadata": {},
   "source": [
    "#### 1.4.2.3 Exercise: Loading data from a JSON file\n",
    "Load the example JSON file (`colors.json`) containing some data about colors. Use Python's `json` module to load the file ([source](https://github.com/corysimmons/colors.json/blob/master/colors.json)), and use the name of a color, e.g., `name = 'magenta'` as a _key_ to the dictionary (more on these in Chapter 2) result, e.g., `result[name]` to see the RGB intensities that mix to make the color.\n",
    "\n",
    "#### Discussion: Reading json as a string from basic file i/o\n",
    "This is about as basic as it gets! `file_handle.read()` results in a string value of the entire file, completely uninterpreted (deserialized). This is then passed to the `json.loads()` function, which parses the string value and interprets it as some kind of Python object, generally a mixture of dictionaries, lists, integers, floating point numbers, booleans, strings and nulls (`None` valued objects)."
   ]
  },
  {
   "cell_type": "code",
   "execution_count": null,
   "metadata": {},
   "outputs": [],
   "source": []
  },
  {
   "cell_type": "markdown",
   "metadata": {},
   "source": [
    "#### 1.4.2.5 Exercise: XML\n",
    "Load an [example XML file](https://gist.github.com/sghael/2930380) of colors (`colors.xml`) and extract a single color of your choosing from the result.\n",
    "\n",
    "#### Discussion: Reading json as a string from basic file i/o\n",
    "While the `json` module is very-nicely integrated to interpret complex Python objects, the `xmltodict` module interprets data using some more exotic Python objects. While we discussed `Counter` and `defaultdict`, the `xmltodict` returns a different modified dictionary structure: `OrderedDict`. Just like a `Counter` or `defaultdict`, you can interact with an `OrderedDict` just the same as with a standard Python dictionary. However, it has different bells and whistles (like `Counter`'s `.most_common()` method) specifically designed for ordered array-like access, i.e., integer indexing as with `list`s and `tuple`s."
   ]
  },
  {
   "cell_type": "code",
   "execution_count": null,
   "metadata": {},
   "outputs": [],
   "source": []
  },
  {
   "cell_type": "markdown",
   "metadata": {},
   "source": [
    "#### 1.4.2.7 Exercise: load a csv with a header\n",
    "Use the `csv.reader()` function to the load the `APPL.csv` stock prices spreadsheet. Print the first 10 rows and infer what the columns mean from the header. Note: Stock history for APPL were retrieved from [Yahoo](https://finance.yahoo.com/quote/AAPL/history?p=AAPL). How would you utilize the header information separately in a data structure to ease access to columns?\n",
    "\n",
    "#### Discussion:  dataframe-like implementation\n",
    "While all we had to do was print the first 10 rows and infer schema information from the header, we went the extra mile and utilized a dictionary (looking ahead to __Chapter 2__) to create a dataframe-like structure. Specifically, our solution here allows us to access an entire column as a list (a dictionary value) by specifying a header as a dictionary key. Note: we'll get this kind of functionality for free with Pandas, but the implementation provides advanced practice with Python control syntax and line-by-line file reading. These latter skills are essential when dealing with large datasets, spreadsheets or not; Pandas' in-memory dataframe implementation eventually (e.g., files >1GB) gets quite slow!"
   ]
  },
  {
   "cell_type": "code",
   "execution_count": null,
   "metadata": {},
   "outputs": [],
   "source": []
  }
 ],
 "metadata": {
  "kernelspec": {
   "display_name": "Python 3",
   "language": "python",
   "name": "python3"
  },
  "language_info": {
   "codemirror_mode": {
    "name": "ipython",
    "version": 3
   },
   "file_extension": ".py",
   "mimetype": "text/x-python",
   "name": "python",
   "nbconvert_exporter": "python",
   "pygments_lexer": "ipython3",
   "version": "3.6.5"
  }
 },
 "nbformat": 4,
 "nbformat_minor": 2
}
