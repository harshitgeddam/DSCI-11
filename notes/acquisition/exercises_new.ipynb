{
 "cells": [
  {
   "cell_type": "markdown",
   "metadata": {},
   "source": [
    "# DSCI 511: Data acquisition and pre-processing<br>Chapter 3: Acquiring Data from the Internet\n",
    "## Exercises\n",
    "Note: numberings refer to the main notes."
   ]
  },
  {
   "cell_type": "markdown",
   "metadata": {},
   "source": [
    "#### 3.1.2.3 Exercise: processing a JSON response\n",
    "Make a request to the SEPTA Arrivals API to get data on the next 10 trains to arrive at Suburban Station. Store this JSON-format data into a dictionary. Inspect the dictionary structure. Then, write code to create a list containing 10 dictionaries, one for each train. These new dictionaries should look like this:\n",
    "\n",
    "#### Discussion: figuring out what we got. \n",
    "Putting together/modifying the example URL from Section 3.1.2.2 was relatively straightforward, especially since Suburban Station is exhibited with its station ID directly in the docs. The harder part is probably figuring out how to extract the information out of the json response. As it turns out, we got 20 trains: 10 each going Northbound and Southbound! "
   ]
  },
  {
   "cell_type": "code",
   "execution_count": null,
   "metadata": {},
   "outputs": [],
   "source": []
  },
  {
   "cell_type": "markdown",
   "metadata": {},
   "source": [
    "#### 3.2.1.1 Exercise: accessing a soccer schedule\n",
    "\n",
    "Make a request to the Sportradar Soccer schedule API to obtain the match schedule for Liverpool FC (team_id = sr:competitor:44). Then, from the obtained schedule, make a simple list of fixtures. Your output should be a list with strings as elements. The strings should be of the format \"HOME_TEAM vs AWAY_TEAM\".\n",
    "\n",
    "#### Discussion: sometimes it's easier to work with support data than logic\n",
    "This solution is a great example of when data can simplify code. If we had wanted to, we could have used `if/else` logic gates to make sure the home and away teams were always listed in the right order as we construct our fixtures. But creating the `fixture` object as a dictionary with two keys: `'home'` and `'away'` was strategic: using the _value_ of each `competitor`'s `'qualifier'` field (i.e., role as `'home'` and `'away'`) allowed us to just focus on routing each team to its appropriate position in the fixture _associatively_. "
   ]
  },
  {
   "cell_type": "code",
   "execution_count": null,
   "metadata": {},
   "outputs": [],
   "source": []
  },
  {
   "cell_type": "markdown",
   "metadata": {},
   "source": [
    "#### 3.3.3.1 Exercise: access some accidental haikus from Twitter's REST API\n",
    "Create your Twitter API keys and download the last 15 tweets by @accidental575 (the hilarious Accidental Haiku Bot).\n",
    "\n",
    "#### Discussion: just drop your keys in, and start accessing tweets\n",
    "Working with a client is _very_ convenient, but the only reason these things exist is because the access is so valued and controled. If you haven't, sign up for a developer account and create an app today to get working with Twitter's API. "
   ]
  },
  {
   "cell_type": "code",
   "execution_count": null,
   "metadata": {},
   "outputs": [],
   "source": []
  }
 ],
 "metadata": {
  "kernelspec": {
   "display_name": "Python 3",
   "language": "python",
   "name": "python3"
  },
  "language_info": {
   "codemirror_mode": {
    "name": "ipython",
    "version": 3
   },
   "file_extension": ".py",
   "mimetype": "text/x-python",
   "name": "python",
   "nbconvert_exporter": "python",
   "pygments_lexer": "ipython3",
   "version": "3.6.5"
  }
 },
 "nbformat": 4,
 "nbformat_minor": 2
}
