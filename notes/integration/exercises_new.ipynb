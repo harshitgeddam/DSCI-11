{
 "cells": [
  {
   "cell_type": "markdown",
   "metadata": {},
   "source": [
    "# DSCI 511: Data acquisition and pre-processing<br>Chapter 6: Data Integration and Enrichment\n",
    "\n",
    "In this notebook, we'll primarily discuss interacting with tabular or spreadsheet-like data with the `pandas` module (`pip3 install pandas`). `pandas` is a high-level library designed to simplify complex operations, as such, it is a very powerful tool well worth learning.\n",
    "\n",
    "## Exercises\n",
    "Note: numberings refer to the main notes."
   ]
  },
  {
   "cell_type": "markdown",
   "metadata": {},
   "source": [
    "#### 6.1.1.4 Exercise: Boolean masks\n",
    "Create a Boolean mask for the rows that correspond only to the month of August and print these rows below."
   ]
  },
  {
   "cell_type": "code",
   "execution_count": 8,
   "metadata": {},
   "outputs": [],
   "source": [
    "# code goes here"
   ]
  },
  {
   "cell_type": "markdown",
   "metadata": {},
   "source": [
    "#### 6.1.2.1 Exercise:\n",
    "Download stock history for Tesla Inc. (TSLA) from Yahoo! Finance, read it into a dataframe, and save the \"Date\" and \"Close\" columns to a CSV file.\n",
    "\n",
    "#### Discussion: Column selection and file i/o made easy!\n",
    "After doing these sorts of thing with the `csv` module, often line by line, it's pretty nice to just use the `.to_csv()` dataframe method. Just don't forget to tell pandas to drop the index!"
   ]
  },
  {
   "cell_type": "code",
   "execution_count": null,
   "metadata": {},
   "outputs": [],
   "source": [
    "# code goes here"
   ]
  },
  {
   "cell_type": "markdown",
   "metadata": {},
   "source": [
    "#### 6.1.3.4 Exercise: Dropping missing values\n",
    "\n",
    "Load `patient-stats.csv` into a `pandas` dataframe. Some patient records are missing values for weight. Drop these records and display the final dataframe.\n",
    "\n",
    "#### Discussion: Convenience for common tasks\n",
    "What once took a lot of looping (dropping) and counting (sampling) now as well can be accomplished with only a method!  "
   ]
  },
  {
   "cell_type": "code",
   "execution_count": null,
   "metadata": {},
   "outputs": [],
   "source": [
    "# code goes here"
   ]
  },
  {
   "cell_type": "markdown",
   "metadata": {},
   "source": [
    "#### 6.2.1.1 Exercise: More Boolean masks\n",
    "Create a mask for filtering data for the players whose height is exactly 72 inches. Use this filter to put this data into a new dataframe.\n",
    "\n",
    "#### Discussion: filtering, with concise syntax\n",
    "These mask-generating conditional expressions, here comparing a column to an integer, really make it easy to drill down into a dataset."
   ]
  },
  {
   "cell_type": "code",
   "execution_count": null,
   "metadata": {},
   "outputs": [],
   "source": [
    "# code goes here"
   ]
  },
  {
   "cell_type": "markdown",
   "metadata": {},
   "source": [
    "Once you get the hang of the mask syntax it becomes convenient and easy to perform complex filtering statements on a single line."
   ]
  },
  {
   "cell_type": "code",
   "execution_count": null,
   "metadata": {},
   "outputs": [],
   "source": [
    "# code goes here"
   ]
  },
  {
   "cell_type": "markdown",
   "metadata": {},
   "source": [
    "We can even run compound logic statements, aligning the separate masks through pointwise boolean comparisons. But be careful, you have to encapsulate each mask in parentheses if you want to construct a new one with compound logic, and moreover use non-verbose operators, like `&`, instead of `and`."
   ]
  },
  {
   "cell_type": "code",
   "execution_count": null,
   "metadata": {},
   "outputs": [],
   "source": [
    "# code goes here"
   ]
  },
  {
   "cell_type": "markdown",
   "metadata": {},
   "source": [
    "#### 6.2.3.4 Exercise: Joins\n",
    "Use a boolean mask to put only the data for the under-18 population into a new dataframe from the `state-population.csv` file. Load the data from `state-abbrevs.csv` and perform the appropriate join operation to create a dataframe that has both the under-18 population data and the state names.\n",
    "\n",
    "#### Discussion: Filter and merge\n",
    "The only real difference here from the main examples is that we're filtering before a merge. This can be especially helpful if we wish to calculate new data, as in the next exercise.\n",
    "\n",
    "However, it is worth noting that by performing this as an inner join we not only didn't induce any NAs, but wound up making ourselves blissfully ignorant of the missing population data for `'PR'`, since the merge left these (and `'USA'`'s) rows out of the join for having no match on the right table."
   ]
  },
  {
   "cell_type": "code",
   "execution_count": null,
   "metadata": {},
   "outputs": [],
   "source": [
    "# code goes here"
   ]
  },
  {
   "cell_type": "markdown",
   "metadata": {},
   "source": [
    "#### 6.2.2.5 Challenge Exercise: Joins\n",
    "Use boolean masks, again, but this time to enrich the population data. Calculate values for over 18 year old populations, and insert them as additional rows tagged with `'over18'` in the `'ages'` column. Be sure that your calculations correctly align the right years and states!"
   ]
  },
  {
   "cell_type": "code",
   "execution_count": null,
   "metadata": {},
   "outputs": [],
   "source": [
    "# code goes here"
   ]
  }
 ],
 "metadata": {
  "kernelspec": {
   "display_name": "Python 3",
   "language": "python",
   "name": "python3"
  },
  "language_info": {
   "codemirror_mode": {
    "name": "ipython",
    "version": 3
   },
   "file_extension": ".py",
   "mimetype": "text/x-python",
   "name": "python",
   "nbconvert_exporter": "python",
   "pygments_lexer": "ipython3",
   "version": "3.6.5"
  }
 },
 "nbformat": 4,
 "nbformat_minor": 2
}
