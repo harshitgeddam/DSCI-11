{
 "cells": [
  {
   "cell_type": "markdown",
   "metadata": {},
   "source": [
    "# DSCI 511: Data acquisition and pre-processing<br>Chapter 6: Data Integration and Enrichment\n",
    "\n",
    "In this notebook, we'll primarily discuss interacting with tabular or spreadsheet-like data with the `pandas` module (`pip3 install pandas`). `pandas` is a high-level library designed to simplify complex operations, as such, it is a very powerful tool well worth learning.\n",
    "\n",
    "## Exercises\n",
    "Note: numberings refer to the main notes."
   ]
  },
  {
   "cell_type": "markdown",
   "metadata": {},
   "source": [
    "#### 6.1.1.4 Exercise: Boolean masks\n",
    "Create a Boolean mask for the rows that correspond only to the month of August and print these rows below."
   ]
  },
  {
   "cell_type": "code",
   "execution_count": 8,
   "metadata": {},
   "outputs": [],
   "source": [
    "# code goes here"
   ]
  },
  {
   "cell_type": "markdown",
   "metadata": {},
   "source": [
    "#### 6.1.2.1 Exercise:\n",
    "Download stock history for Tesla Inc. (TSLA) from Yahoo! Finance, read it into a dataframe, and save the \"Date\" and \"Close\" columns to a CSV file.\n",
    "\n",
    "#### Discussion: Column selection and file i/o made easy!\n",
    "After doing these sorts of thing with the `csv` module, often line by line, it's pretty nice to just use the `.to_csv()` dataframe method. Just don't forget to tell pandas to drop the index!"
   ]
  },
  {
   "cell_type": "code",
   "execution_count": 1,
   "metadata": {},
   "outputs": [],
   "source": [
    "import pandas as pd\n",
    "\n",
    "TSLA = pd.read_csv(\"./data/TSLA.csv\", sep = \",\", header = 0, parse_dates = [0])\n",
    "\n",
    "TSLA[[\"Date\", \"Close\"]].to_csv(\"./data/TSLA_first_two_columns.csv\", index = False) "
   ]
  },
  {
   "cell_type": "markdown",
   "metadata": {},
   "source": [
    "#### 6.1.3.4 Exercise: Dropping missing values\n",
    "\n",
    "Load `patient-stats.csv` into a `pandas` dataframe. Some patient records are missing values for weight. Drop these records and display the final dataframe.\n",
    "\n",
    "#### Discussion: Convenience for common tasks\n",
    "What once took a lot of looping (dropping) and counting (sampling) now as well can be accomplished with only a method!  "
   ]
  },
  {
   "cell_type": "code",
   "execution_count": 11,
   "metadata": {},
   "outputs": [
    {
     "data": {
      "text/html": [
       "<div>\n",
       "<style scoped>\n",
       "    .dataframe tbody tr th:only-of-type {\n",
       "        vertical-align: middle;\n",
       "    }\n",
       "\n",
       "    .dataframe tbody tr th {\n",
       "        vertical-align: top;\n",
       "    }\n",
       "\n",
       "    .dataframe thead th {\n",
       "        text-align: right;\n",
       "    }\n",
       "</style>\n",
       "<table border=\"1\" class=\"dataframe\">\n",
       "  <thead>\n",
       "    <tr style=\"text-align: right;\">\n",
       "      <th></th>\n",
       "      <th>patient_id</th>\n",
       "      <th>age</th>\n",
       "      <th>height</th>\n",
       "      <th>weight</th>\n",
       "    </tr>\n",
       "  </thead>\n",
       "  <tbody>\n",
       "    <tr>\n",
       "      <th>1</th>\n",
       "      <td>75608</td>\n",
       "      <td>22</td>\n",
       "      <td>62</td>\n",
       "      <td>101.0</td>\n",
       "    </tr>\n",
       "    <tr>\n",
       "      <th>2</th>\n",
       "      <td>19926</td>\n",
       "      <td>47</td>\n",
       "      <td>77</td>\n",
       "      <td>216.0</td>\n",
       "    </tr>\n",
       "    <tr>\n",
       "      <th>3</th>\n",
       "      <td>48540</td>\n",
       "      <td>18</td>\n",
       "      <td>64</td>\n",
       "      <td>168.0</td>\n",
       "    </tr>\n",
       "    <tr>\n",
       "      <th>4</th>\n",
       "      <td>77350</td>\n",
       "      <td>48</td>\n",
       "      <td>83</td>\n",
       "      <td>160.0</td>\n",
       "    </tr>\n",
       "    <tr>\n",
       "      <th>6</th>\n",
       "      <td>35269</td>\n",
       "      <td>87</td>\n",
       "      <td>63</td>\n",
       "      <td>122.0</td>\n",
       "    </tr>\n",
       "  </tbody>\n",
       "</table>\n",
       "</div>"
      ],
      "text/plain": [
       "   patient_id  age  height   weight\n",
       "1       75608   22      62    101.0\n",
       "2       19926   47      77    216.0\n",
       "3       48540   18      64    168.0\n",
       "4       77350   48      83    160.0\n",
       "6       35269   87      63    122.0"
      ]
     },
     "execution_count": 11,
     "metadata": {},
     "output_type": "execute_result"
    }
   ],
   "source": [
    "import pandas as pd\n",
    "\n",
    "patient_stats = pd.read_csv(\"./data/patient-stats.csv\", \n",
    "                            sep = \",\", header = 0)\n",
    "patients_with_weights = patient_stats.dropna(axis = \"rows\")\n",
    "patients_with_weights.head()"
   ]
  },
  {
   "cell_type": "markdown",
   "metadata": {},
   "source": [
    "#### 6.2.1.1 Exercise: More Boolean masks\n",
    "Create a mask for filtering data for the players whose height is exactly 72 inches. Use this filter to put this data into a new dataframe.\n",
    "\n",
    "#### Discussion: filtering, with concise syntax\n",
    "These mask-generating conditional expressions, here comparing a column to an integer, really make it easy to drill down into a dataset."
   ]
  },
  {
   "cell_type": "code",
   "execution_count": 12,
   "metadata": {},
   "outputs": [
    {
     "data": {
      "text/html": [
       "<div>\n",
       "<style scoped>\n",
       "    .dataframe tbody tr th:only-of-type {\n",
       "        vertical-align: middle;\n",
       "    }\n",
       "\n",
       "    .dataframe tbody tr th {\n",
       "        vertical-align: top;\n",
       "    }\n",
       "\n",
       "    .dataframe thead th {\n",
       "        text-align: right;\n",
       "    }\n",
       "</style>\n",
       "<table border=\"1\" class=\"dataframe\">\n",
       "  <thead>\n",
       "    <tr style=\"text-align: right;\">\n",
       "      <th></th>\n",
       "      <th>Name</th>\n",
       "      <th>Team</th>\n",
       "      <th>Position</th>\n",
       "      <th>Height</th>\n",
       "      <th>Weight</th>\n",
       "      <th>Age</th>\n",
       "    </tr>\n",
       "  </thead>\n",
       "  <tbody>\n",
       "    <tr>\n",
       "      <th>2</th>\n",
       "      <td>Ramon_Hernandez</td>\n",
       "      <td>BAL</td>\n",
       "      <td>Catcher</td>\n",
       "      <td>72</td>\n",
       "      <td>210.0</td>\n",
       "      <td>30.78</td>\n",
       "    </tr>\n",
       "    <tr>\n",
       "      <th>3</th>\n",
       "      <td>Kevin_Millar</td>\n",
       "      <td>BAL</td>\n",
       "      <td>First_Baseman</td>\n",
       "      <td>72</td>\n",
       "      <td>210.0</td>\n",
       "      <td>35.43</td>\n",
       "    </tr>\n",
       "    <tr>\n",
       "      <th>16</th>\n",
       "      <td>Jay_Gibbons</td>\n",
       "      <td>BAL</td>\n",
       "      <td>Designated_Hitter</td>\n",
       "      <td>72</td>\n",
       "      <td>197.0</td>\n",
       "      <td>30.00</td>\n",
       "    </tr>\n",
       "    <tr>\n",
       "      <th>24</th>\n",
       "      <td>Scott_Williamson</td>\n",
       "      <td>BAL</td>\n",
       "      <td>Relief_Pitcher</td>\n",
       "      <td>72</td>\n",
       "      <td>180.0</td>\n",
       "      <td>31.03</td>\n",
       "    </tr>\n",
       "    <tr>\n",
       "      <th>47</th>\n",
       "      <td>Scott_Podsednik</td>\n",
       "      <td>CWS</td>\n",
       "      <td>Outfielder</td>\n",
       "      <td>72</td>\n",
       "      <td>188.0</td>\n",
       "      <td>30.95</td>\n",
       "    </tr>\n",
       "  </tbody>\n",
       "</table>\n",
       "</div>"
      ],
      "text/plain": [
       "                Name Team           Position  Height  Weight    Age\n",
       "2    Ramon_Hernandez  BAL            Catcher      72   210.0  30.78\n",
       "3       Kevin_Millar  BAL      First_Baseman      72   210.0  35.43\n",
       "16       Jay_Gibbons  BAL  Designated_Hitter      72   197.0  30.00\n",
       "24  Scott_Williamson  BAL     Relief_Pitcher      72   180.0  31.03\n",
       "47   Scott_Podsednik  CWS         Outfielder      72   188.0  30.95"
      ]
     },
     "execution_count": 12,
     "metadata": {},
     "output_type": "execute_result"
    }
   ],
   "source": [
    "baseball_data = pd.read_csv(\"./data/baseball_heightweight.csv\", header = 0)\n",
    "\n",
    "height_mask = baseball_data[\"Height\"] == 72\n",
    "\n",
    "height72 = baseball_data[height_mask]\n",
    "height72.head()"
   ]
  },
  {
   "cell_type": "markdown",
   "metadata": {},
   "source": [
    "Once you get the hang of the mask syntax it becomes convenient and easy to perform complex filtering statements on a single line."
   ]
  },
  {
   "cell_type": "code",
   "execution_count": 17,
   "metadata": {},
   "outputs": [
    {
     "data": {
      "text/html": [
       "<div>\n",
       "<style scoped>\n",
       "    .dataframe tbody tr th:only-of-type {\n",
       "        vertical-align: middle;\n",
       "    }\n",
       "\n",
       "    .dataframe tbody tr th {\n",
       "        vertical-align: top;\n",
       "    }\n",
       "\n",
       "    .dataframe thead th {\n",
       "        text-align: right;\n",
       "    }\n",
       "</style>\n",
       "<table border=\"1\" class=\"dataframe\">\n",
       "  <thead>\n",
       "    <tr style=\"text-align: right;\">\n",
       "      <th></th>\n",
       "      <th>Name</th>\n",
       "      <th>Team</th>\n",
       "      <th>Position</th>\n",
       "      <th>Height</th>\n",
       "      <th>Weight</th>\n",
       "      <th>Age</th>\n",
       "    </tr>\n",
       "  </thead>\n",
       "  <tbody>\n",
       "    <tr>\n",
       "      <th>0</th>\n",
       "      <td>Adam_Donachie</td>\n",
       "      <td>BAL</td>\n",
       "      <td>Catcher</td>\n",
       "      <td>74</td>\n",
       "      <td>180.0</td>\n",
       "      <td>22.99</td>\n",
       "    </tr>\n",
       "    <tr>\n",
       "      <th>1</th>\n",
       "      <td>Paul_Bako</td>\n",
       "      <td>BAL</td>\n",
       "      <td>Catcher</td>\n",
       "      <td>74</td>\n",
       "      <td>215.0</td>\n",
       "      <td>34.69</td>\n",
       "    </tr>\n",
       "    <tr>\n",
       "      <th>4</th>\n",
       "      <td>Chris_Gomez</td>\n",
       "      <td>BAL</td>\n",
       "      <td>First_Baseman</td>\n",
       "      <td>73</td>\n",
       "      <td>188.0</td>\n",
       "      <td>35.71</td>\n",
       "    </tr>\n",
       "    <tr>\n",
       "      <th>5</th>\n",
       "      <td>Brian_Roberts</td>\n",
       "      <td>BAL</td>\n",
       "      <td>Second_Baseman</td>\n",
       "      <td>69</td>\n",
       "      <td>176.0</td>\n",
       "      <td>29.39</td>\n",
       "    </tr>\n",
       "    <tr>\n",
       "      <th>6</th>\n",
       "      <td>Miguel_Tejada</td>\n",
       "      <td>BAL</td>\n",
       "      <td>Shortstop</td>\n",
       "      <td>69</td>\n",
       "      <td>209.0</td>\n",
       "      <td>30.77</td>\n",
       "    </tr>\n",
       "  </tbody>\n",
       "</table>\n",
       "</div>"
      ],
      "text/plain": [
       "            Name Team        Position  Height  Weight    Age\n",
       "0  Adam_Donachie  BAL         Catcher      74   180.0  22.99\n",
       "1      Paul_Bako  BAL         Catcher      74   215.0  34.69\n",
       "4    Chris_Gomez  BAL   First_Baseman      73   188.0  35.71\n",
       "5  Brian_Roberts  BAL  Second_Baseman      69   176.0  29.39\n",
       "6  Miguel_Tejada  BAL       Shortstop      69   209.0  30.77"
      ]
     },
     "execution_count": 17,
     "metadata": {},
     "output_type": "execute_result"
    }
   ],
   "source": [
    "## now in one line\n",
    "baseball_data[baseball_data[\"Height\"] != 72].head()"
   ]
  },
  {
   "cell_type": "markdown",
   "metadata": {},
   "source": [
    "We can even run compound logic statements, aligning the separate masks through pointwise boolean comparisons. But be careful, you have to encapsulate each mask in parentheses if you want to construct a new one with compound logic, and moreover use non-verbose operators, like `&`, instead of `and`."
   ]
  },
  {
   "cell_type": "code",
   "execution_count": 30,
   "metadata": {},
   "outputs": [
    {
     "data": {
      "text/html": [
       "<div>\n",
       "<style scoped>\n",
       "    .dataframe tbody tr th:only-of-type {\n",
       "        vertical-align: middle;\n",
       "    }\n",
       "\n",
       "    .dataframe tbody tr th {\n",
       "        vertical-align: top;\n",
       "    }\n",
       "\n",
       "    .dataframe thead th {\n",
       "        text-align: right;\n",
       "    }\n",
       "</style>\n",
       "<table border=\"1\" class=\"dataframe\">\n",
       "  <thead>\n",
       "    <tr style=\"text-align: right;\">\n",
       "      <th></th>\n",
       "      <th>Name</th>\n",
       "      <th>Team</th>\n",
       "      <th>Position</th>\n",
       "      <th>Height</th>\n",
       "      <th>Weight</th>\n",
       "      <th>Age</th>\n",
       "    </tr>\n",
       "  </thead>\n",
       "  <tbody>\n",
       "    <tr>\n",
       "      <th>4</th>\n",
       "      <td>Chris_Gomez</td>\n",
       "      <td>BAL</td>\n",
       "      <td>First_Baseman</td>\n",
       "      <td>73</td>\n",
       "      <td>188.0</td>\n",
       "      <td>35.71</td>\n",
       "    </tr>\n",
       "    <tr>\n",
       "      <th>5</th>\n",
       "      <td>Brian_Roberts</td>\n",
       "      <td>BAL</td>\n",
       "      <td>Second_Baseman</td>\n",
       "      <td>69</td>\n",
       "      <td>176.0</td>\n",
       "      <td>29.39</td>\n",
       "    </tr>\n",
       "    <tr>\n",
       "      <th>6</th>\n",
       "      <td>Miguel_Tejada</td>\n",
       "      <td>BAL</td>\n",
       "      <td>Shortstop</td>\n",
       "      <td>69</td>\n",
       "      <td>209.0</td>\n",
       "      <td>30.77</td>\n",
       "    </tr>\n",
       "    <tr>\n",
       "      <th>7</th>\n",
       "      <td>Melvin_Mora</td>\n",
       "      <td>BAL</td>\n",
       "      <td>Third_Baseman</td>\n",
       "      <td>71</td>\n",
       "      <td>200.0</td>\n",
       "      <td>35.07</td>\n",
       "    </tr>\n",
       "    <tr>\n",
       "      <th>8</th>\n",
       "      <td>Aubrey_Huff</td>\n",
       "      <td>BAL</td>\n",
       "      <td>Third_Baseman</td>\n",
       "      <td>76</td>\n",
       "      <td>231.0</td>\n",
       "      <td>30.19</td>\n",
       "    </tr>\n",
       "  </tbody>\n",
       "</table>\n",
       "</div>"
      ],
      "text/plain": [
       "            Name Team        Position  Height  Weight    Age\n",
       "4    Chris_Gomez  BAL   First_Baseman      73   188.0  35.71\n",
       "5  Brian_Roberts  BAL  Second_Baseman      69   176.0  29.39\n",
       "6  Miguel_Tejada  BAL       Shortstop      69   209.0  30.77\n",
       "7    Melvin_Mora  BAL   Third_Baseman      71   200.0  35.07\n",
       "8    Aubrey_Huff  BAL   Third_Baseman      76   231.0  30.19"
      ]
     },
     "execution_count": 30,
     "metadata": {},
     "output_type": "execute_result"
    }
   ],
   "source": [
    "## now in one line\n",
    "baseball_data[(baseball_data[\"Height\"] != 72) & \n",
    "              (baseball_data[\"Position\"] != \"Catcher\")].head()"
   ]
  },
  {
   "cell_type": "markdown",
   "metadata": {},
   "source": [
    "#### 6.2.3.4 Exercise: Joins\n",
    "Use a boolean mask to put only the data for the under-18 population into a new dataframe from the `state-population.csv` file. Load the data from `state-abbrevs.csv` and perform the appropriate join operation to create a dataframe that has both the under-18 population data and the state names.\n",
    "\n",
    "#### Discussion: Filter and merge\n",
    "The only real difference here from the main examples is that we're filtering before a merge. This can be especially helpful if we wish to calculate new data, as in the next exercise.\n",
    "\n",
    "However, it is worth noting that by performing this as an inner join we not only didn't induce any NAs, but wound up making ourselves blissfully ignorant of the missing population data for `'PR'`, since the merge left these (and `'USA'`'s) rows out of the join for having no match on the right table."
   ]
  },
  {
   "cell_type": "code",
   "execution_count": 28,
   "metadata": {},
   "outputs": [
    {
     "data": {
      "text/html": [
       "<div>\n",
       "<style scoped>\n",
       "    .dataframe tbody tr th:only-of-type {\n",
       "        vertical-align: middle;\n",
       "    }\n",
       "\n",
       "    .dataframe tbody tr th {\n",
       "        vertical-align: top;\n",
       "    }\n",
       "\n",
       "    .dataframe thead th {\n",
       "        text-align: right;\n",
       "    }\n",
       "</style>\n",
       "<table border=\"1\" class=\"dataframe\">\n",
       "  <thead>\n",
       "    <tr style=\"text-align: right;\">\n",
       "      <th></th>\n",
       "      <th>state/region</th>\n",
       "      <th>ages</th>\n",
       "      <th>year</th>\n",
       "      <th>population</th>\n",
       "      <th>state</th>\n",
       "      <th>abbreviation</th>\n",
       "    </tr>\n",
       "  </thead>\n",
       "  <tbody>\n",
       "    <tr>\n",
       "      <th>0</th>\n",
       "      <td>AL</td>\n",
       "      <td>under18</td>\n",
       "      <td>2012</td>\n",
       "      <td>1117489.0</td>\n",
       "      <td>Alabama</td>\n",
       "      <td>AL</td>\n",
       "    </tr>\n",
       "    <tr>\n",
       "      <th>1</th>\n",
       "      <td>AL</td>\n",
       "      <td>under18</td>\n",
       "      <td>2010</td>\n",
       "      <td>1130966.0</td>\n",
       "      <td>Alabama</td>\n",
       "      <td>AL</td>\n",
       "    </tr>\n",
       "    <tr>\n",
       "      <th>2</th>\n",
       "      <td>AL</td>\n",
       "      <td>under18</td>\n",
       "      <td>2011</td>\n",
       "      <td>1125763.0</td>\n",
       "      <td>Alabama</td>\n",
       "      <td>AL</td>\n",
       "    </tr>\n",
       "    <tr>\n",
       "      <th>3</th>\n",
       "      <td>AL</td>\n",
       "      <td>under18</td>\n",
       "      <td>2009</td>\n",
       "      <td>1134192.0</td>\n",
       "      <td>Alabama</td>\n",
       "      <td>AL</td>\n",
       "    </tr>\n",
       "    <tr>\n",
       "      <th>4</th>\n",
       "      <td>AL</td>\n",
       "      <td>under18</td>\n",
       "      <td>2013</td>\n",
       "      <td>1111481.0</td>\n",
       "      <td>Alabama</td>\n",
       "      <td>AL</td>\n",
       "    </tr>\n",
       "  </tbody>\n",
       "</table>\n",
       "</div>"
      ],
      "text/plain": [
       "  state/region     ages  year  population    state abbreviation\n",
       "0           AL  under18  2012   1117489.0  Alabama           AL\n",
       "1           AL  under18  2010   1130966.0  Alabama           AL\n",
       "2           AL  under18  2011   1125763.0  Alabama           AL\n",
       "3           AL  under18  2009   1134192.0  Alabama           AL\n",
       "4           AL  under18  2013   1111481.0  Alabama           AL"
      ]
     },
     "execution_count": 28,
     "metadata": {},
     "output_type": "execute_result"
    }
   ],
   "source": [
    "pop = pd.read_csv(\"./data/state-population.csv\")\n",
    "abbrev = pd.read_csv(\"./data/state-abbrevs.csv\")\n",
    "\n",
    "pop = pop[pop['ages'] == \"under18\"]\n",
    "\n",
    "joined = pd.merge(pop, abbrev, how = \"inner\", \n",
    "                  left_on = \"state/region\", right_on = \"abbreviation\")\n",
    "\n",
    "joined.head()"
   ]
  },
  {
   "cell_type": "code",
   "execution_count": 29,
   "metadata": {},
   "outputs": [
    {
     "data": {
      "text/plain": [
       "state/region    False\n",
       "ages            False\n",
       "year            False\n",
       "population      False\n",
       "state           False\n",
       "abbreviation    False\n",
       "dtype: bool"
      ]
     },
     "execution_count": 29,
     "metadata": {},
     "output_type": "execute_result"
    }
   ],
   "source": [
    "joined.isnull().any()"
   ]
  },
  {
   "cell_type": "markdown",
   "metadata": {},
   "source": [
    "#### 6.2.2.5 Challenge Exercise: Joins\n",
    "Use boolean masks, again, but this time to enrich the population data. Calculate values for over 18 year old populations, and insert them as additional rows tagged with `'over18'` in the `'ages'` column. Be sure that your calculations correctly align the right years and states!"
   ]
  },
  {
   "cell_type": "code",
   "execution_count": null,
   "metadata": {},
   "outputs": [],
   "source": [
    "# code goes here"
   ]
  }
 ],
 "metadata": {
  "kernelspec": {
   "display_name": "Python 3",
   "language": "python",
   "name": "python3"
  },
  "language_info": {
   "codemirror_mode": {
    "name": "ipython",
    "version": 3
   },
   "file_extension": ".py",
   "mimetype": "text/x-python",
   "name": "python",
   "nbconvert_exporter": "python",
   "pygments_lexer": "ipython3",
   "version": "3.7.0"
  }
 },
 "nbformat": 4,
 "nbformat_minor": 2
}
